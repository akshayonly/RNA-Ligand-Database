{
  "nbformat": 4,
  "nbformat_minor": 0,
  "metadata": {
    "colab": {
      "name": "Conversion_&_Organising_Structure_Files.ipynb",
      "provenance": [],
      "collapsed_sections": [
        "p2AcUeng8WjS",
        "VJNC-8th8ZgC",
        "8R12ci4t8csT",
        "pi05eOTV8eZx"
      ],
      "mount_file_id": "1E0cT4NPdBoUzGks1k_ub0K9NNaFwcwHu",
      "authorship_tag": "ABX9TyO+RBRnLpUC+eTmfytqESCv"
    },
    "kernelspec": {
      "name": "python3",
      "display_name": "Python 3"
    },
    "language_info": {
      "name": "python"
    }
  },
  "cells": [
    {
      "cell_type": "markdown",
      "metadata": {
        "id": "WRPAfe7w39az"
      },
      "source": [
        "# Conversion and Organising Structure Files \n",
        "- RNA Ligand Database\n",
        "- Author: Akshay Shirsath\n",
        "\n",
        "CONTENT\n",
        "1. Converting mol files to sdf\n",
        "2. Reorganising sdf & mol files\n"
      ]
    },
    {
      "cell_type": "code",
      "metadata": {
        "id": "JbEyw7cNiJug"
      },
      "source": [
        "import os\n",
        "from tqdm import tqdm\n",
        "import numpy as np"
      ],
      "execution_count": null,
      "outputs": []
    },
    {
      "cell_type": "markdown",
      "metadata": {
        "id": "OU2yvGDT4iFN"
      },
      "source": [
        "## Converting .mol, .mol2 files to .sdf files"
      ]
    },
    {
      "cell_type": "markdown",
      "metadata": {
        "id": "z7-VIdt-4k1L"
      },
      "source": [
        "### Google Drive path for the sdf and mol compounds"
      ]
    },
    {
      "cell_type": "code",
      "metadata": {
        "id": "-RWIZxzplAxT"
      },
      "source": [
        "path = r\"/content/drive/MyDrive/current_work/work_with_aniket/RNA-Ligand Database/all\""
      ],
      "execution_count": null,
      "outputs": []
    },
    {
      "cell_type": "markdown",
      "metadata": {
        "id": "exZo4Ee37mjL"
      },
      "source": [
        "### Getting the number of files"
      ]
    },
    {
      "cell_type": "code",
      "metadata": {
        "id": "NpVEOIj0lQ74",
        "colab": {
          "base_uri": "https://localhost:8080/"
        },
        "outputId": "c9ccd50d-20c4-4bfb-e8b9-e72d988447f8"
      },
      "source": [
        "# Finding how many files are .mol, .mol2 and sdf\n",
        "\n",
        "extensions = [file.split('.')[1] for file in os.listdir(path)]\n",
        "\n",
        "files_type, files_count = np.unique(extensions, return_counts=True)\n",
        "\n",
        "print(\"\\tType\\t|\\tCount\\n\")\n",
        "print(f\"\\t--------|------------\\n\")\n",
        "print(f\"\\t{files_type[0]}\\t|\\t{files_count[0]}\\n\")\n",
        "print(f\"\\t{files_type[1]}\\t|\\t{files_count[1]}\\n\")\n",
        "print(f\"\\t{files_type[2]}\\t|\\t{files_count[2]}\\n\")\n",
        "print(f\"\\t{files_type[3]}\\t|\\t{files_count[3]}\\n\")"
      ],
      "execution_count": null,
      "outputs": [
        {
          "output_type": "stream",
          "name": "stdout",
          "text": [
            "\tType\t|\tCount\n",
            "\n",
            "\t--------|------------\n",
            "\n",
            "\tmol\t|\t41\n",
            "\n",
            "\tmol2\t|\t80\n",
            "\n",
            "\tpdb\t|\t3\n",
            "\n",
            "\tsdf\t|\t1074\n",
            "\n"
          ]
        }
      ]
    },
    {
      "cell_type": "markdown",
      "metadata": {
        "id": "BHuG_Ykc7sjc"
      },
      "source": [
        "### Segrating files into different directories based on their extensions"
      ]
    },
    {
      "cell_type": "markdown",
      "metadata": {
        "id": "p2AcUeng8WjS"
      },
      "source": [
        "#### .pdb file"
      ]
    },
    {
      "cell_type": "code",
      "metadata": {
        "colab": {
          "base_uri": "https://localhost:8080/"
        },
        "id": "IpnslvQF-73r",
        "outputId": "6ed0a811-d9ba-484b-ec5f-9ca995b11196"
      },
      "source": [
        "## Listing first four files\n",
        "\n",
        "!ls /content/drive/MyDrive/current_work/work_with_aniket/RNA-Ligand\\ Database/all -U | head -4"
      ],
      "execution_count": null,
      "outputs": [
        {
          "output_type": "stream",
          "name": "stdout",
          "text": [
            "Cibacronblue.sdf\n",
            "Structure2D_CID_25863.sdf\n",
            "Conformer3D_CID_25863.sdf\n",
            "Structure2D_CID_7099.sdf\n"
          ]
        }
      ]
    },
    {
      "cell_type": "code",
      "metadata": {
        "id": "f66ipLRrmFvZ"
      },
      "source": [
        "## Bash/ linux command for moving specific file(s) based on their extensions ##\n",
        "\n",
        "! cp -r /content/drive/MyDrive/current_work/work_with_aniket/RNA-Ligand\\ Database/all/*.pdb /content/drive/MyDrive/current_work/work_with_aniket/RNA-Ligand\\ Database/Final_Structure_Files/archived/all_pdb/"
      ],
      "execution_count": null,
      "outputs": []
    },
    {
      "cell_type": "markdown",
      "metadata": {
        "id": "VJNC-8th8ZgC"
      },
      "source": [
        "#### .mol file"
      ]
    },
    {
      "cell_type": "code",
      "metadata": {
        "id": "gRN7MOHl8cKO"
      },
      "source": [
        "## Bash/ linux command for moving specific file(s) based on their extensions ##\n",
        "## mol file ##\n",
        "! cp -r /content/drive/MyDrive/current_work/work_with_aniket/RNA-Ligand\\ Database/all/*.mol /content/drive/MyDrive/current_work/work_with_aniket/RNA-Ligand\\ Database/Final_Structure_Files/archived/all_mol/"
      ],
      "execution_count": null,
      "outputs": []
    },
    {
      "cell_type": "markdown",
      "metadata": {
        "id": "8R12ci4t8csT"
      },
      "source": [
        "#### .mol2"
      ]
    },
    {
      "cell_type": "code",
      "metadata": {
        "id": "-LzJHk8u8d2w"
      },
      "source": [
        "## Bash/ linux command for moving specific file(s) based on their extensions ##\n",
        "## mol2 file ##\n",
        "! cp -r /content/drive/MyDrive/current_work/work_with_aniket/RNA-Ligand\\ Database/all/*.mol2 /content/drive/MyDrive/current_work/work_with_aniket/RNA-Ligand\\ Database/Final_Structure_Files/archived/all_mol2/"
      ],
      "execution_count": null,
      "outputs": []
    },
    {
      "cell_type": "markdown",
      "metadata": {
        "id": "pi05eOTV8eZx"
      },
      "source": [
        "#### .sdf"
      ]
    },
    {
      "cell_type": "code",
      "metadata": {
        "id": "B89vyZ1r8gDE"
      },
      "source": [
        "## Bash/ linux command for moving specific file(s) based on their extensions ##\n",
        "## sdf file ##\n",
        "! cp -r /content/drive/MyDrive/current_work/work_with_aniket/RNA-Ligand\\ Database/all/*.sdf /content/drive/MyDrive/current_work/work_with_aniket/RNA-Ligand\\ Database/Final_Structure_Files/archived/all_sdfs/"
      ],
      "execution_count": null,
      "outputs": []
    },
    {
      "cell_type": "markdown",
      "metadata": {
        "id": "LN_nXQs9B8GG"
      },
      "source": [
        "#### Summary"
      ]
    },
    {
      "cell_type": "code",
      "metadata": {
        "colab": {
          "base_uri": "https://localhost:8080/"
        },
        "id": "WXRlisSxAr5d",
        "outputId": "51e4e045-cb71-447d-8656-414713808071"
      },
      "source": [
        "# Finding how many files are .mol, .mol2 and sdf\n",
        "path_mol = r\"/content/drive/MyDrive/current_work/work_with_aniket/RNA-Ligand Database/Final_Structure_Files/archived/all_mol\"\n",
        "path_pdb = r\"/content/drive/MyDrive/current_work/work_with_aniket/RNA-Ligand Database/Final_Structure_Files/archived/all_pdb\"\n",
        "path_mol2 = r\"/content/drive/MyDrive/current_work/work_with_aniket/RNA-Ligand Database/Final_Structure_Files/archived/all_mol2\"\n",
        "path_sdfs = r\"/content/drive/MyDrive/current_work/work_with_aniket/RNA-Ligand Database/Final_Structure_Files/archived/all_sdfs\"\n",
        "\n",
        "move_location_sdf = len(os.listdir(path_sdfs))\n",
        "move_location_pdb = len(os.listdir(path_pdb))\n",
        "move_location_mol = len(os.listdir(path_mol))\n",
        "move_location_mol2 = len(os.listdir(path_mol2))\n",
        "\n",
        "print(\"\\tFILES in| OLD DIRECTORY\\t| NEW DIRECTORY\\n\")\n",
        "print(f\"\\t--------|---------------|------------\\n\")\n",
        "print(f\"\\t{files_type[0]}\\t|\\t{files_count[0]}\\t|\\t{move_location_mol}\\n\")\n",
        "print(f\"\\t{files_type[1]}\\t|\\t{files_count[1]}\\t|\\t{move_location_mol2}\\n\")\n",
        "print(f\"\\t{files_type[2]}\\t|\\t{files_count[2]}\\t|\\t{move_location_pdb}\\n\")\n",
        "print(f\"\\t{files_type[3]}\\t|\\t{files_count[3]}\\t|\\t{move_location_sdf}\\n\")"
      ],
      "execution_count": null,
      "outputs": [
        {
          "output_type": "stream",
          "name": "stdout",
          "text": [
            "\tFILES in| OLD DIRECTORY\t| NEW DIRECTORY\n",
            "\n",
            "\t--------|---------------|------------\n",
            "\n",
            "\tmol\t|\t41\t|\t41\n",
            "\n",
            "\tmol2\t|\t80\t|\t80\n",
            "\n",
            "\tpdb\t|\t3\t|\t3\n",
            "\n",
            "\tsdf\t|\t1074\t|\t1074\n",
            "\n"
          ]
        }
      ]
    },
    {
      "cell_type": "markdown",
      "metadata": {
        "id": "y_G8wrEKC0Wp"
      },
      "source": [
        "## File conversion by OpenBabel Python"
      ]
    },
    {
      "cell_type": "code",
      "metadata": {
        "id": "OKFEQe6xCj7c"
      },
      "source": [
        "! wget https://repo.anaconda.com/miniconda/Miniconda3-py37_4.8.2-Linux-x86_64.sh\n",
        "! chmod +x Miniconda3-py37_4.8.2-Linux-x86_64.sh\n",
        "! bash ./Miniconda3-py37_4.8.2-Linux-x86_64.sh -b -f -p /usr/local\n",
        "import sys\n",
        "sys.path.append('/usr/local/lib/python3.7/site-packages/')"
      ],
      "execution_count": null,
      "outputs": []
    },
    {
      "cell_type": "code",
      "metadata": {
        "id": "I6q6LBgxEH_-"
      },
      "source": [
        "!conda install -c conda-forge openbabel"
      ],
      "execution_count": null,
      "outputs": []
    },
    {
      "cell_type": "code",
      "metadata": {
        "id": "qS1Pi_0gEadN"
      },
      "source": [
        "from openbabel import openbabel\n",
        "import os\n",
        "from tqdm import tqdm"
      ],
      "execution_count": 53,
      "outputs": []
    },
    {
      "cell_type": "code",
      "metadata": {
        "id": "WI-ekOyxGCoQ"
      },
      "source": [
        "def Mol2ToSDF(mol2_file, directory_path, store_path):\n",
        "    \"\"\"Converts .mol2 to .sdf \"\"\"\n",
        "    \n",
        "    file_name = mol2_file.split(\".\")[0]\n",
        "\n",
        "    complete_path = f\"{directory_path}/{mol2_file}\"\n",
        "    \n",
        "    obConversion = openbabel.OBConversion()\n",
        "    obConversion.SetInAndOutFormats(\"mol2\", \"sdf\")\n",
        "    mol = openbabel.OBMol()\n",
        "    \n",
        "    obConversion.ReadFile(mol, complete_path) \n",
        "    \n",
        "    status = obConversion.WriteFile(mol, f'{store_path}/{file_name}.sdf')\n",
        "    \n",
        "    if status:\n",
        "        pass\n",
        "    else:\n",
        "        print(f\"ERROR in Conversion!. Check {file_name} file.\")"
      ],
      "execution_count": 50,
      "outputs": []
    },
    {
      "cell_type": "code",
      "metadata": {
        "id": "eYRpshBrFcmW"
      },
      "source": [
        "# Directory to store all the newly converted .mol and previous sdf files\n",
        "store_directory_path = r\"/content/drive/MyDrive/current_work/work_with_aniket/RNA-Ligand Database/Final_Structure_Files/all_converted_structure_files\""
      ],
      "execution_count": 49,
      "outputs": []
    },
    {
      "cell_type": "code",
      "metadata": {
        "colab": {
          "base_uri": "https://localhost:8080/"
        },
        "id": "oX6ie5iQEp0l",
        "outputId": "f9ee0c9d-8973-47ec-fd30-fe4c23ba9c1d"
      },
      "source": [
        "print(f\"Number of Mol Files: {len(os.listdir(path_mol))}\")"
      ],
      "execution_count": 47,
      "outputs": [
        {
          "output_type": "stream",
          "name": "stdout",
          "text": [
            "Number of Mol Files: 41\n"
          ]
        }
      ]
    },
    {
      "cell_type": "code",
      "metadata": {
        "colab": {
          "base_uri": "https://localhost:8080/"
        },
        "id": "ywiom5DyGEVI",
        "outputId": "c6431545-4b46-4356-dfb2-81a62332b02d"
      },
      "source": [
        "for mol in tqdm(os.listdir(path_mol)):\n",
        "    Mol2ToSDF(mol, path_mol, store_directory_path)"
      ],
      "execution_count": 52,
      "outputs": [
        {
          "output_type": "stream",
          "name": "stderr",
          "text": [
            "\r  0%|          | 0/41 [00:00<?, ?it/s]/usr/local/lib/python3.7/site-packages/openbabel/__init__.py:14: UserWarning: \"import openbabel\" is deprecated, instead use \"from openbabel import openbabel\"\n",
            "  warnings.warn('\"import openbabel\" is deprecated, instead use \"from openbabel import openbabel\"')\n",
            "100%|██████████| 41/41 [00:00<00:00, 54.26it/s]\n"
          ]
        }
      ]
    },
    {
      "cell_type": "code",
      "metadata": {
        "colab": {
          "base_uri": "https://localhost:8080/"
        },
        "id": "PzV20bNnGlAx",
        "outputId": "20c6c299-87db-44c8-d70a-f6646c99ee1b"
      },
      "source": [
        "for mol2 in tqdm(os.listdir(path_mol2)):\n",
        "    Mol2ToSDF(mol2, path_mol2, store_directory_path)"
      ],
      "execution_count": 54,
      "outputs": [
        {
          "output_type": "stream",
          "name": "stderr",
          "text": [
            "100%|██████████| 80/80 [00:02<00:00, 34.26it/s]\n"
          ]
        }
      ]
    },
    {
      "cell_type": "code",
      "metadata": {
        "id": "y5zHCiL1HQbZ"
      },
      "source": [
        "! cp /content/drive/MyDrive/current_work/work_with_aniket/RNA-Ligand\\ Database/Final_Structure_Files/archived/all_sdfs/*.sdf /content/drive/MyDrive/current_work/work_with_aniket/RNA-Ligand\\ Database/Final_Structure_Files/all_previous_sdf_structure_files/"
      ],
      "execution_count": 57,
      "outputs": []
    },
    {
      "cell_type": "code",
      "metadata": {
        "id": "zekFZnnXIQSC"
      },
      "source": [
        "store_directory_path = r\"/content/drive/MyDrive/current_work/work_with_aniket/RNA-Ligand Database/Final_Structure_Files/all_converted_mol_to_sdf_structure_files\""
      ],
      "execution_count": 58,
      "outputs": []
    },
    {
      "cell_type": "code",
      "metadata": {
        "colab": {
          "base_uri": "https://localhost:8080/"
        },
        "id": "_nR6pMT_ISrw",
        "outputId": "697a3fd1-7255-449a-c158-1414547f4291"
      },
      "source": [
        "len(os.listdir(store_directory_path))"
      ],
      "execution_count": 59,
      "outputs": [
        {
          "output_type": "execute_result",
          "data": {
            "text/plain": [
              "121"
            ]
          },
          "metadata": {},
          "execution_count": 59
        }
      ]
    }
  ]
}