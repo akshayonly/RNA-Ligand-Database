{
  "nbformat": 4,
  "nbformat_minor": 0,
  "metadata": {
    "colab": {
      "name": "RNA-Lignads-Data-Extraction-Processing-NALDB.ipynb",
      "provenance": [],
      "collapsed_sections": [
        "4IAIHwkoZbve",
        "jtNKiu1EX3nv",
        "wg1UPhklz35D",
        "BDdJfxjs0Cc1",
        "V8z646MA0IbE",
        "XUkrd5Za0MYs",
        "zZ632o6y0PoL",
        "pCZxVNPuWVvJ"
      ],
      "mount_file_id": "1ThTAsu6CbR2lkqEY3D-z1B0KVLjo7FFe",
      "authorship_tag": "ABX9TyMRifmedpCPmpJVLUWvXXPA",
      "include_colab_link": true
    },
    "kernelspec": {
      "name": "python3",
      "display_name": "Python 3"
    },
    "language_info": {
      "name": "python"
    }
  },
  "cells": [
    {
      "cell_type": "markdown",
      "metadata": {
        "id": "view-in-github",
        "colab_type": "text"
      },
      "source": [
        "<a href=\"https://colab.research.google.com/github/akshayonly/RNA-Ligand-Database/blob/main/RNA_Lignads_Data_Extraction_Processing_NALDB.ipynb\" target=\"_parent\"><img src=\"https://colab.research.google.com/assets/colab-badge.svg\" alt=\"Open In Colab\"/></a>"
      ]
    },
    {
      "cell_type": "markdown",
      "metadata": {
        "id": "4IAIHwkoZbve"
      },
      "source": [
        "# Packages and Libraries"
      ]
    },
    {
      "cell_type": "code",
      "metadata": {
        "colab": {
          "base_uri": "https://localhost:8080/"
        },
        "id": "ZtZQbFf2F-oK",
        "outputId": "65afab02-f828-407d-ec7d-a0241500b27e"
      },
      "source": [
        "! pip install pubchempy\n",
        "! pip install biopython"
      ],
      "execution_count": 1,
      "outputs": [
        {
          "output_type": "stream",
          "name": "stdout",
          "text": [
            "Requirement already satisfied: pubchempy in /usr/local/lib/python3.7/dist-packages (1.0.4)\n",
            "Requirement already satisfied: biopython in /usr/local/lib/python3.7/dist-packages (1.79)\n",
            "Requirement already satisfied: numpy in /usr/local/lib/python3.7/dist-packages (from biopython) (1.19.5)\n"
          ]
        }
      ]
    },
    {
      "cell_type": "code",
      "metadata": {
        "id": "Zng1KTnnjis2"
      },
      "source": [
        "# For Webscrapping & REST API\n",
        "import re\n",
        "import requests\n",
        "from bs4 import BeautifulSoup\n",
        "\n",
        "# Accessing Bio/ Chem databases\n",
        "from Bio import Entrez\n",
        "from Bio import Medline\n",
        "import pubchempy as pcp\n",
        "\n",
        "# Data processing\n",
        "import numpy as np\n",
        "import pandas as pd\n",
        "\n",
        "# Miscellaneous\n",
        "from tqdm import tqdm\n",
        "import time\n",
        "from datetime import datetime"
      ],
      "execution_count": 2,
      "outputs": []
    },
    {
      "cell_type": "code",
      "metadata": {
        "id": "FYdM_8chZ8fM"
      },
      "source": [
        "start=datetime.now()"
      ],
      "execution_count": 3,
      "outputs": []
    },
    {
      "cell_type": "markdown",
      "metadata": {
        "id": "jtNKiu1EX3nv"
      },
      "source": [
        "# Helper Functions"
      ]
    },
    {
      "cell_type": "markdown",
      "metadata": {
        "id": "wg1UPhklz35D"
      },
      "source": [
        "## NALDBFetchComp(APBD1)"
      ]
    },
    {
      "cell_type": "code",
      "metadata": {
        "id": "FYrmo8hVNYwL"
      },
      "source": [
        "def NALDBFetchComp(comp_id):\n",
        "  \"\"\"\n",
        "  Webscrapping  function fetches the data from html page related to given \n",
        "  compound present in NALDB based on their compound ID (e.g., APBD10)\n",
        "  \"\"\"\n",
        "\n",
        "  page = requests.get(f\"http://bsbe.iiti.ac.in/bsbe/naldb/{comp_id}.php\")\n",
        "\n",
        "  soup = BeautifulSoup(page.content, 'html.parser')\n",
        "\n",
        "  # Extract content from <td> tags\n",
        "  td_html_tag = soup.select('td')\n",
        "\n",
        "  # Extract image src from <img> tags\n",
        "  img_html_tag = soup.select('img')\n",
        "\n",
        "  meta_data = dict()\n",
        "\n",
        "  # 'NALDB_ID'\n",
        "  naldb_id = soup.title.text\n",
        "\n",
        "  # 'pubmed_ID'\n",
        "  pubmed_ID = td_html_tag[9].text.strip()\n",
        "\n",
        "  # 'ligand_name'\n",
        "  ligand_name = td_html_tag[4].text.strip()\n",
        "\n",
        "  # 'target_name'\n",
        "  target_name = td_html_tag[2].text.strip()\n",
        "\n",
        "  # 'canonical_SMILES'\n",
        "  canonical_SMILES = td_html_tag[11].text\n",
        "\n",
        "  # 'molecular_formula' \n",
        "  molecular_formula = td_html_tag[12].text\n",
        "\n",
        "  # 'molecular_weight'\n",
        "  molecular_weight = td_html_tag[13].text\n",
        "\n",
        "  # 'binding_detail' \n",
        "  binding_detail = td_html_tag[5].text.strip()\n",
        "\n",
        "  # 'minimized_energy' \n",
        "  minimized_energy = td_html_tag[22].text\n",
        "\n",
        "  # 'energy'\n",
        "  energy = td_html_tag[21].text\n",
        "\n",
        "  # 'net_charge'\n",
        "  net_charge = td_html_tag[14].text\n",
        "\n",
        "  # 'a_log_p'\n",
        "  a_log_p = td_html_tag[15].text\n",
        "\n",
        "  # 'num_aromatic_rings' \n",
        "  num_aromatic_rings = td_html_tag[16].text\n",
        "\n",
        "  # 'num_h_acceptors'\n",
        "  num_h_acceptors = td_html_tag[17].text\n",
        "\n",
        "  # 'num_h_donors' \n",
        "  num_h_donors = td_html_tag[18].text\n",
        "\n",
        "  # 'num_rings'\n",
        "  num_rings = td_html_tag[19].text\n",
        "\n",
        "  # 'img_URL'\n",
        "  src = [img.get('src') for img in img_html_tag][0]\n",
        "  img_URL = f\"http://bsbe.iiti.ac.in/bsbe/naldb/{src}\" \n",
        "\n",
        "  return ((naldb_id, pubmed_ID, ligand_name, target_name, canonical_SMILES, \n",
        "               molecular_formula, molecular_weight, binding_detail, \n",
        "               minimized_energy, energy, net_charge, a_log_p, \n",
        "               num_aromatic_rings, num_h_acceptors, num_h_donors, \n",
        "               num_rings, img_URL))"
      ],
      "execution_count": 4,
      "outputs": []
    },
    {
      "cell_type": "markdown",
      "metadata": {
        "id": "BDdJfxjs0Cc1"
      },
      "source": [
        "## pubmedSearch(pubmed_id, abstract, PDB_record, authors, title)"
      ]
    },
    {
      "cell_type": "code",
      "metadata": {
        "id": "jIK_2L9lX7Ps"
      },
      "source": [
        "def pubmedSearch(pubmed_id, \n",
        "                 abstract=False, PDB_record=False, \n",
        "                 authors=False, title=False):\n",
        "  \"\"\"\n",
        "  Get the PDB ID of corresponding Pubmed entry. \n",
        "  If PDB ID present returns the ID, or else 'None'\n",
        "  \"\"\"\n",
        "  handle = Entrez.efetch(\n",
        "      db=\"pubmed\", \n",
        "      id=pubmed_id, \n",
        "      rettype=\"medline\", \n",
        "      retmode=\"text\")\n",
        "    \n",
        "  records = Medline.parse(handle)\n",
        "\n",
        "  if abstract:\n",
        "    return list(records)[0].get('AB')\n",
        "  elif PDB_record:\n",
        "    return list(records)[0].get('SI')\n",
        "  elif authors:\n",
        "    return list(records)[0].get('AU')\n",
        "  elif title:\n",
        "    return list(records)[0].get('TI')\n",
        "  else:\n",
        "    return records"
      ],
      "execution_count": 5,
      "outputs": []
    },
    {
      "cell_type": "markdown",
      "metadata": {
        "id": "V8z646MA0IbE"
      },
      "source": [
        "## PubChemCID(SMILE)"
      ]
    },
    {
      "cell_type": "code",
      "metadata": {
        "id": "3W7RfmrpsQgU"
      },
      "source": [
        "def PubChemCID(SMILE):\n",
        "  \"\"\"\n",
        "  Returns PubChem CID (ID) of given compound using\n",
        "  PubChem CID through pubchempy (pcp) python library\n",
        "  \"\"\"\n",
        "  cid = pcp.get_compounds(SMILE, 'smiles')\n",
        "  cid_extracted = re.findall(r'\\d+', str(cid[0]))[0]\n",
        "\n",
        "  return cid_extracted  "
      ],
      "execution_count": 6,
      "outputs": []
    },
    {
      "cell_type": "markdown",
      "metadata": {
        "id": "XUkrd5Za0MYs"
      },
      "source": [
        "## PubChemData(pubchem_cid)"
      ]
    },
    {
      "cell_type": "code",
      "metadata": {
        "id": "5Ddu58F50LeL"
      },
      "source": [
        "def PubChemData(pubchem_cid):\n",
        "  \"\"\"\n",
        "  Returns PubChem information of given compound using\n",
        "  PubChem CID through pubchempy (pcp) python library\n",
        "  \"\"\"\n",
        "  compound = pcp.Compound.from_cid(pubchem_cid)\n",
        "\n",
        "  sdf_url = f\"https://pubchem.ncbi.nlm.nih.gov/rest/pug/compound/cid/{pubchem_cid}/SDF\"\n",
        "  image_url = f\"https://pubchem.ncbi.nlm.nih.gov/rest/pug/compound/cid/{pubchem_cid}/PNG\"\n",
        "\n",
        "  pubchem_meta_data = dict()\n",
        "\n",
        "  pubchem_meta_data[\"xlogp\"] = compound.xlogp\n",
        "  pubchem_meta_data[\"pubchem_id\"] = cid_extracted\n",
        "  pubchem_meta_data[\"molecular_formula\"] = compound.molecular_formula\n",
        "  pubchem_meta_data[\"molecular_weight\"] = compound.molecular_weight\n",
        "  pubchem_meta_data[\"isomeric_smiles\"] = compound.isomeric_smiles\n",
        "  pubchem_meta_data[\"iupac_name\"] = compound.iupac_name\n",
        "  pubchem_meta_data[\"synonyms\"] = compound.synonyms\n",
        "  pubchem_meta_data[\"image_url\"] = image_url\n",
        "  pubchem_meta_data['SDF_file'] = sdf_url\n",
        "\n",
        "  return pubchem_meta_data"
      ],
      "execution_count": 7,
      "outputs": []
    },
    {
      "cell_type": "markdown",
      "metadata": {
        "id": "zZ632o6y0PoL"
      },
      "source": [
        "## LigandSearchPDB(SMILE)"
      ]
    },
    {
      "cell_type": "code",
      "metadata": {
        "id": "J5edGGnsuZRU"
      },
      "source": [
        "def LigandSearchPDB(SMILE):\n",
        "  search_request = {\n",
        "    \"query\": {\n",
        "      \"type\": \"terminal\",\n",
        "      \"service\": \"chemical\",\n",
        "      \"parameters\": {\n",
        "        \"value\": SMILE,\n",
        "        \"type\": \"descriptor\",\n",
        "        \"descriptor_type\": \"SMILES\",\n",
        "        \"match_type\": \"graph-exact\"\n",
        "      }\n",
        "    },\n",
        "    \"return_type\": \"entry\"\n",
        "  }\n",
        "\n",
        "  search_url = f\"https://search.rcsb.org/rcsbsearch/v1/query?json=\"\n",
        "\n",
        "  request = requests.post(url=search_url, json=search_request)\n",
        "\n",
        "  search_results = dict(request.json())\n",
        "\n",
        "  pdb_ids_list = [search_results['result_set'][i].get('identifier') for i in range(len(search_results['result_set']))]\n",
        "\n",
        "  return pdb_ids_list"
      ],
      "execution_count": 8,
      "outputs": []
    },
    {
      "cell_type": "markdown",
      "metadata": {
        "id": "pCZxVNPuWVvJ"
      },
      "source": [
        "## PubChemSDF( )\n"
      ]
    },
    {
      "cell_type": "code",
      "metadata": {
        "id": "6rgCskOOjEt2",
        "colab": {
          "base_uri": "https://localhost:8080/",
          "height": 0
        },
        "outputId": "f21446eb-4c9f-4bd1-a920-d3b3548684a8"
      },
      "source": [
        "\"\"\"\n",
        "from tqdm import tqdm\n",
        "import requests\n",
        "\n",
        "response = requests.get(download_url, stream=True)\n",
        "\n",
        "with open(f\"{cid_extracted}.sdf\", \"wb\") as handle:\n",
        "    for data in tqdm(response.iter_content()):\n",
        "        handle.write(data)\n",
        "\n",
        "\"\"\"        "
      ],
      "execution_count": 9,
      "outputs": [
        {
          "output_type": "execute_result",
          "data": {
            "application/vnd.google.colaboratory.intrinsic+json": {
              "type": "string"
            },
            "text/plain": [
              "'\\nfrom tqdm import tqdm\\nimport requests\\n\\nresponse = requests.get(download_url, stream=True)\\n\\nwith open(f\"{cid_extracted}.sdf\", \"wb\") as handle:\\n    for data in tqdm(response.iter_content()):\\n        handle.write(data)\\n\\n'"
            ]
          },
          "metadata": {},
          "execution_count": 9
        }
      ]
    },
    {
      "cell_type": "code",
      "metadata": {
        "id": "XHPNIlxpxO8b"
      },
      "source": [
        "# ! cat /content/238.sdf"
      ],
      "execution_count": 10,
      "outputs": []
    },
    {
      "cell_type": "markdown",
      "metadata": {
        "id": "vfnpvzfZ3Pv5"
      },
      "source": [
        "# MAIN"
      ]
    },
    {
      "cell_type": "markdown",
      "metadata": {
        "id": "ZaOJR9lD_Vf4"
      },
      "source": [
        "## NALDB - Nucleic Acid Aptamer Binding Ligands Data"
      ]
    },
    {
      "cell_type": "code",
      "metadata": {
        "id": "fL2g5V-73SH6"
      },
      "source": [
        "# creating list of all the Ligand ID in \n",
        "# NALDB's Nucleic Acid Aptamer Binding Ligands Data section\n",
        "naldb_ligand_IDs = [f\"APBD{no}\" for no in np.arange(1, 484)]\n",
        "\n",
        "# Column names for pandas dataframe and excel sheet\n",
        "column_names=(\n",
        "    'naldb_ID', 'pubmed_ID', 'ligand_name', 'target_name', 'canonical_SMILES', \n",
        "    'molecular_formula', 'molecular_weight', 'binding_detail', \n",
        "    'minimized_energy', 'energy', 'net_charge', 'a_log_p', \n",
        "    'num_aromatic_rings', 'num_h_acceptors', 'num_h_donors', \n",
        "    'num_rings', 'img_URL')"
      ],
      "execution_count": 11,
      "outputs": []
    },
    {
      "cell_type": "code",
      "metadata": {
        "colab": {
          "base_uri": "https://localhost:8080/"
        },
        "id": "IVrLZ9DK5zAI",
        "outputId": "8f717756-3f70-4eeb-cc27-77800a063387"
      },
      "source": [
        "# Iterating over all the entries of the \n",
        "# NALDB's Nucleic Acid Aptamer Binding Ligands Data section\n",
        "# and storing the values of each ligand entries\n",
        "\n",
        "naldb_data = list()\n",
        "for id in tqdm(naldb_ligand_IDs):\n",
        "  naldb_data.append(NALDBFetchComp(id))"
      ],
      "execution_count": 12,
      "outputs": [
        {
          "output_type": "stream",
          "name": "stderr",
          "text": [
            "100%|██████████| 483/483 [04:35<00:00,  1.75it/s]\n"
          ]
        }
      ]
    },
    {
      "cell_type": "code",
      "metadata": {
        "id": "0lcWhaxQWkYf"
      },
      "source": [
        "# Creating dataframe from fetched naldb \n",
        "# 'Nucleic acid aptamer binding ligands' entries\n",
        "naldb_dataframe = pd.DataFrame(naldb_data, columns=column_names)"
      ],
      "execution_count": 13,
      "outputs": []
    },
    {
      "cell_type": "code",
      "metadata": {
        "id": "424pGiU6JA13"
      },
      "source": [
        "# Converting 'text' data type obtained from \n",
        "# webscrapping (html file) to 'numeric'\n",
        "\n",
        "naldb_dataframe['molecular_weight'] = naldb_dataframe['molecular_weight'].astype(float, errors = 'raise')\n",
        "\n",
        "naldb_dataframe['minimized_energy'] = naldb_dataframe['minimized_energy'].astype(float, errors = 'raise')\n",
        "\n",
        "naldb_dataframe['energy'] = naldb_dataframe['energy'].astype(float, errors = 'raise')\n",
        "\n",
        "naldb_dataframe['net_charge'] = naldb_dataframe['net_charge'].astype(float, errors = 'raise')\n",
        "\n",
        "naldb_dataframe['a_log_p'] = naldb_dataframe['a_log_p'].astype(float, errors = 'raise')\n",
        "\n",
        "naldb_dataframe['num_aromatic_rings'] = naldb_dataframe['num_aromatic_rings'].astype(int, errors = 'raise')\n",
        "\n",
        "naldb_dataframe['num_h_acceptors'] = naldb_dataframe['num_h_acceptors'].astype(int, errors = 'raise')\n",
        "\n",
        "naldb_dataframe['num_h_donors'] = naldb_dataframe['num_h_donors'].astype(int, errors = 'raise')\n",
        "\n",
        "naldb_dataframe['num_rings'] = naldb_dataframe['num_rings'].astype(int, errors = 'raise')\n",
        "\n",
        "naldb_dataframe = naldb_dataframe.replace(r'^\\s*$', np.nan, regex=True)"
      ],
      "execution_count": null,
      "outputs": []
    },
    {
      "cell_type": "code",
      "metadata": {
        "colab": {
          "base_uri": "https://localhost:8080/",
          "height": 544
        },
        "id": "1IYF01kN5oTQ",
        "outputId": "61e0987d-dd07-4815-b8ab-5bd9f91be6a4"
      },
      "source": [
        "naldb_dataframe.head(10)"
      ],
      "execution_count": 14,
      "outputs": [
        {
          "output_type": "execute_result",
          "data": {
            "text/html": [
              "<div>\n",
              "<style scoped>\n",
              "    .dataframe tbody tr th:only-of-type {\n",
              "        vertical-align: middle;\n",
              "    }\n",
              "\n",
              "    .dataframe tbody tr th {\n",
              "        vertical-align: top;\n",
              "    }\n",
              "\n",
              "    .dataframe thead th {\n",
              "        text-align: right;\n",
              "    }\n",
              "</style>\n",
              "<table border=\"1\" class=\"dataframe\">\n",
              "  <thead>\n",
              "    <tr style=\"text-align: right;\">\n",
              "      <th></th>\n",
              "      <th>naldb_ID</th>\n",
              "      <th>pubmed_ID</th>\n",
              "      <th>ligand_name</th>\n",
              "      <th>target_name</th>\n",
              "      <th>canonical_SMILES</th>\n",
              "      <th>molecular_formula</th>\n",
              "      <th>molecular_weight</th>\n",
              "      <th>binding_detail</th>\n",
              "      <th>minimized_energy</th>\n",
              "      <th>energy</th>\n",
              "      <th>net_charge</th>\n",
              "      <th>a_log_p</th>\n",
              "      <th>num_aromatic_rings</th>\n",
              "      <th>num_h_acceptors</th>\n",
              "      <th>num_h_donors</th>\n",
              "      <th>num_rings</th>\n",
              "      <th>img_URL</th>\n",
              "    </tr>\n",
              "  </thead>\n",
              "  <tbody>\n",
              "    <tr>\n",
              "      <th>0</th>\n",
              "      <td>APBD1</td>\n",
              "      <td>24168267</td>\n",
              "      <td>ATP</td>\n",
              "      <td>SSA-1</td>\n",
              "      <td>NC1=NC=NC2=C1N=CN2C1OC(COP(O)(=O)OP(O)(=O)OP(O...</td>\n",
              "      <td>C10 H16 N5 O13 P3</td>\n",
              "      <td>507.1810</td>\n",
              "      <td>EC50= 29.9 ± 5.8µM</td>\n",
              "      <td>39.82</td>\n",
              "      <td>156.80</td>\n",
              "      <td>0.0</td>\n",
              "      <td>-2.526</td>\n",
              "      <td>2</td>\n",
              "      <td>17</td>\n",
              "      <td>7</td>\n",
              "      <td>3</td>\n",
              "      <td>http://bsbe.iiti.ac.in/bsbe/naldb/img/APBD1.png</td>\n",
              "    </tr>\n",
              "    <tr>\n",
              "      <th>1</th>\n",
              "      <td>APBD2</td>\n",
              "      <td>23971905</td>\n",
              "      <td>ABA</td>\n",
              "      <td>Aptamer 2</td>\n",
              "      <td>C\\C(\\C=C\\[C@@]1(O)C(C)=CC(=O)CC1(C)C)=C\\C(O)=O</td>\n",
              "      <td>C15 H20 O4</td>\n",
              "      <td>264.3170</td>\n",
              "      <td>kd= 0.98 – 0.14 µM</td>\n",
              "      <td>2.49</td>\n",
              "      <td>6.59</td>\n",
              "      <td>0.0</td>\n",
              "      <td>2.161</td>\n",
              "      <td>0</td>\n",
              "      <td>4</td>\n",
              "      <td>2</td>\n",
              "      <td>1</td>\n",
              "      <td>http://bsbe.iiti.ac.in/bsbe/naldb/img/APBD2.png</td>\n",
              "    </tr>\n",
              "    <tr>\n",
              "      <th>2</th>\n",
              "      <td>APBD3</td>\n",
              "      <td>23971905</td>\n",
              "      <td>ABA</td>\n",
              "      <td>aptamer 9</td>\n",
              "      <td>C\\C(\\C=C\\[C@@]1(O)C(C)=CC(=O)CC1(C)C)=C\\C(O)=O</td>\n",
              "      <td>C15 H20 O4</td>\n",
              "      <td>264.3170</td>\n",
              "      <td>kd= 0.80 – 0.07 µM</td>\n",
              "      <td>2.49</td>\n",
              "      <td>6.59</td>\n",
              "      <td>0.0</td>\n",
              "      <td>2.161</td>\n",
              "      <td>0</td>\n",
              "      <td>4</td>\n",
              "      <td>2</td>\n",
              "      <td>1</td>\n",
              "      <td>http://bsbe.iiti.ac.in/bsbe/naldb/img/APBD3.png</td>\n",
              "    </tr>\n",
              "    <tr>\n",
              "      <th>3</th>\n",
              "      <td>APBD4</td>\n",
              "      <td>23830440</td>\n",
              "      <td>opiµM alkaloid codeine (3-methylmorphine)</td>\n",
              "      <td>HL7-14</td>\n",
              "      <td>[H][C@@]12OC3=C(OC)C=CC4=C3C11CCN(C)[C@H](C4)[...</td>\n",
              "      <td>C18 H21 N O3</td>\n",
              "      <td>299.3640</td>\n",
              "      <td>Kd= 0.91 ± 0.19  M</td>\n",
              "      <td>37.35</td>\n",
              "      <td>77.20</td>\n",
              "      <td>0.0</td>\n",
              "      <td>1.637</td>\n",
              "      <td>1</td>\n",
              "      <td>4</td>\n",
              "      <td>1</td>\n",
              "      <td>5</td>\n",
              "      <td>http://bsbe.iiti.ac.in/bsbe/naldb/img/APBD4.png</td>\n",
              "    </tr>\n",
              "    <tr>\n",
              "      <th>4</th>\n",
              "      <td>APBD5</td>\n",
              "      <td>23734784</td>\n",
              "      <td>CPT1</td>\n",
              "      <td>CMA-70</td>\n",
              "      <td>[H]NC(=O)COCC(=O)NCCOCCOCCOCCOCCOCCOCCOCCOCCOC...</td>\n",
              "      <td>C28 H57 N3 O14</td>\n",
              "      <td>659.7640</td>\n",
              "      <td>0.039( µM)</td>\n",
              "      <td>10.89</td>\n",
              "      <td>35.63</td>\n",
              "      <td>0.0</td>\n",
              "      <td>-4.305</td>\n",
              "      <td>0</td>\n",
              "      <td>15</td>\n",
              "      <td>3</td>\n",
              "      <td>0</td>\n",
              "      <td>http://bsbe.iiti.ac.in/bsbe/naldb/img/APBD5.png</td>\n",
              "    </tr>\n",
              "    <tr>\n",
              "      <th>5</th>\n",
              "      <td>APBD6</td>\n",
              "      <td>23734784</td>\n",
              "      <td>CPT1</td>\n",
              "      <td>CDA-36</td>\n",
              "      <td>[H]NC(=O)COCC(=O)NCCOCCOCCOCCOCCOCCOCCOCCOCCOC...</td>\n",
              "      <td>C28 H57 N3 O14</td>\n",
              "      <td>659.7640</td>\n",
              "      <td>1.1 ( µM)</td>\n",
              "      <td>10.89</td>\n",
              "      <td>35.63</td>\n",
              "      <td>0.0</td>\n",
              "      <td>-4.305</td>\n",
              "      <td>0</td>\n",
              "      <td>15</td>\n",
              "      <td>3</td>\n",
              "      <td>0</td>\n",
              "      <td>http://bsbe.iiti.ac.in/bsbe/naldb/img/APBD6.png</td>\n",
              "    </tr>\n",
              "    <tr>\n",
              "      <th>6</th>\n",
              "      <td>APBD7</td>\n",
              "      <td>23734784</td>\n",
              "      <td>CPT1</td>\n",
              "      <td>CMA-59</td>\n",
              "      <td>[H]NC(=O)COCC(=O)NCCOCCOCCOCCOCCOCCOCCOCCOCCOC...</td>\n",
              "      <td>C28 H57 N3 O14</td>\n",
              "      <td>659.7640</td>\n",
              "      <td>0.086( µM)</td>\n",
              "      <td>10.89</td>\n",
              "      <td>35.63</td>\n",
              "      <td>0.0</td>\n",
              "      <td>-4.305</td>\n",
              "      <td>0</td>\n",
              "      <td>15</td>\n",
              "      <td>3</td>\n",
              "      <td>0</td>\n",
              "      <td>http://bsbe.iiti.ac.in/bsbe/naldb/img/APBD7.png</td>\n",
              "    </tr>\n",
              "    <tr>\n",
              "      <th>7</th>\n",
              "      <td>APBD8</td>\n",
              "      <td>23734784</td>\n",
              "      <td>CPT1</td>\n",
              "      <td>CMA-53</td>\n",
              "      <td>[H]NC(=O)COCC(=O)NCCOCCOCCOCCOCCOCCOCCOCCOCCOC...</td>\n",
              "      <td>C28 H57 N3 O14</td>\n",
              "      <td>659.7640</td>\n",
              "      <td>0.79( µM)</td>\n",
              "      <td>10.89</td>\n",
              "      <td>35.63</td>\n",
              "      <td>0.0</td>\n",
              "      <td>-4.305</td>\n",
              "      <td>0</td>\n",
              "      <td>15</td>\n",
              "      <td>3</td>\n",
              "      <td>0</td>\n",
              "      <td>http://bsbe.iiti.ac.in/bsbe/naldb/img/APBD8.png</td>\n",
              "    </tr>\n",
              "    <tr>\n",
              "      <th>8</th>\n",
              "      <td>APBD9</td>\n",
              "      <td>22702719</td>\n",
              "      <td>ATP</td>\n",
              "      <td>Flanked by two dsDNAfragments that end withand...</td>\n",
              "      <td>NC1=NC=NC2=C1N=CN2C1OC(COP(O)(=O)OP(O)(=O)OP(O...</td>\n",
              "      <td>C10 H16 N5 O13 P3</td>\n",
              "      <td>507.1810</td>\n",
              "      <td>By laser tweezers instrµMent  2.0 ± 0.2 µM</td>\n",
              "      <td>39.82</td>\n",
              "      <td>156.80</td>\n",
              "      <td>0.0</td>\n",
              "      <td>-2.526</td>\n",
              "      <td>2</td>\n",
              "      <td>17</td>\n",
              "      <td>7</td>\n",
              "      <td>3</td>\n",
              "      <td>http://bsbe.iiti.ac.in/bsbe/naldb/img/APBD9.png</td>\n",
              "    </tr>\n",
              "    <tr>\n",
              "      <th>9</th>\n",
              "      <td>APBD10</td>\n",
              "      <td>19361229</td>\n",
              "      <td>Ethanolamine</td>\n",
              "      <td>ethanolamine DNA aptamer EA#14.3</td>\n",
              "      <td>NCCO</td>\n",
              "      <td>C2 H7 N O</td>\n",
              "      <td>61.0831</td>\n",
              "      <td>aptamer eluted = 84 %</td>\n",
              "      <td>-0.01</td>\n",
              "      <td>0.72</td>\n",
              "      <td>0.0</td>\n",
              "      <td>-1.187</td>\n",
              "      <td>0</td>\n",
              "      <td>2</td>\n",
              "      <td>2</td>\n",
              "      <td>0</td>\n",
              "      <td>http://bsbe.iiti.ac.in/bsbe/naldb/img/APBD10.png</td>\n",
              "    </tr>\n",
              "  </tbody>\n",
              "</table>\n",
              "</div>"
            ],
            "text/plain": [
              "  naldb_ID  ...                                           img_URL\n",
              "0    APBD1  ...   http://bsbe.iiti.ac.in/bsbe/naldb/img/APBD1.png\n",
              "1   APBD2   ...   http://bsbe.iiti.ac.in/bsbe/naldb/img/APBD2.png\n",
              "2   APBD3   ...   http://bsbe.iiti.ac.in/bsbe/naldb/img/APBD3.png\n",
              "3   APBD4   ...   http://bsbe.iiti.ac.in/bsbe/naldb/img/APBD4.png\n",
              "4   APBD5   ...   http://bsbe.iiti.ac.in/bsbe/naldb/img/APBD5.png\n",
              "5   APBD6   ...   http://bsbe.iiti.ac.in/bsbe/naldb/img/APBD6.png\n",
              "6   APBD7   ...   http://bsbe.iiti.ac.in/bsbe/naldb/img/APBD7.png\n",
              "7   APBD8   ...   http://bsbe.iiti.ac.in/bsbe/naldb/img/APBD8.png\n",
              "8   APBD9   ...   http://bsbe.iiti.ac.in/bsbe/naldb/img/APBD9.png\n",
              "9  APBD10   ...  http://bsbe.iiti.ac.in/bsbe/naldb/img/APBD10.png\n",
              "\n",
              "[10 rows x 17 columns]"
            ]
          },
          "metadata": {},
          "execution_count": 14
        }
      ]
    },
    {
      "cell_type": "code",
      "metadata": {
        "id": "SRIkithUCVNh"
      },
      "source": [
        "# Creating - nuc_acid_aptamer_binding_lig_data_RNA_DNA.xlsx\n",
        "naldb_dataframe.to_excel('nuc_acid_aptamer_binding_lig_data_RNA_DNA.xlsx', \n",
        "                         sheet_name='NALDB_RNA_DNA') "
      ],
      "execution_count": 17,
      "outputs": []
    },
    {
      "cell_type": "code",
      "metadata": {
        "id": "amPnnLjdEdZH"
      },
      "source": [
        "# Copying - nuc_acid_aptamer_binding_lig_data_RNA_DNA.xlsx file to Google Drive\n",
        "! cp -r /content/nuc_acid_aptamer_binding_lig_data_RNA_DNA.xlsx /content/drive/MyDrive/Colab\\ Notebooks/RNA-LIGAND-DATABASE/"
      ],
      "execution_count": 18,
      "outputs": []
    },
    {
      "cell_type": "markdown",
      "metadata": {
        "id": "xFYEQek0PcT2"
      },
      "source": [
        "## Selecting entries with RNA ligand only"
      ]
    },
    {
      "cell_type": "code",
      "metadata": {
        "colab": {
          "base_uri": "https://localhost:8080/"
        },
        "id": "33KON4GyEjK-",
        "outputId": "86448594-f18d-4415-8760-b8482c0a5a94"
      },
      "source": [
        "# Number of unique (non-redundant) pubmed refrences\n",
        "unique_pubmed_ids = len(np.unique(naldb_dataframe['pubmed_ID']))\n",
        "\n",
        "total_pubmed_ids = len(naldb_dataframe['pubmed_ID'])\n",
        "\n",
        "print(f\"{unique_pubmed_ids} pubmed references are repeated or used for all the {total_pubmed_ids} entries\")"
      ],
      "execution_count": 24,
      "outputs": [
        {
          "output_type": "stream",
          "name": "stdout",
          "text": [
            "54 pubmed references are repeated or used for all the 483 entries\n"
          ]
        }
      ]
    },
    {
      "cell_type": "code",
      "metadata": {
        "id": "YezR7wiYPirD"
      },
      "source": [
        ""
      ],
      "execution_count": null,
      "outputs": []
    }
  ]
}