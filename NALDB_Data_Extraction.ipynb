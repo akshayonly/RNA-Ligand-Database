{
  "nbformat": 4,
  "nbformat_minor": 0,
  "metadata": {
    "colab": {
      "name": "NALDB-Data-Extraction.ipynb",
      "provenance": [],
      "collapsed_sections": [
        "jJ8L_NC1j_fB",
        "_KlgX6yEkZRQ",
        "wg1UPhklz35D",
        "BDdJfxjs0Cc1",
        "V8z646MA0IbE",
        "z8nTBUytmTBZ",
        "XUkrd5Za0MYs",
        "zZ632o6y0PoL",
        "pCZxVNPuWVvJ",
        "kAA2yF18Y1TO",
        "BZIHj0HbdFk-",
        "tjHjLuRwKFyo",
        "26mjyzqWb8Nk",
        "ZEsd_Mn_B-cw",
        "ZnScBlAoCKdJ",
        "pfEa6SWQIIoI",
        "EprNpvxdR09K",
        "vMrQL8TckgQe"
      ],
      "mount_file_id": "1_vNm_sCHJA_mxkKTEGhxOzX3WU0nCjoR",
      "authorship_tag": "ABX9TyPWfM86OOfyJ9M5XIeycPvz"
    },
    "kernelspec": {
      "name": "python3",
      "display_name": "Python 3"
    },
    "language_info": {
      "name": "python"
    }
  },
  "cells": [
    {
      "cell_type": "markdown",
      "metadata": {
        "id": "24gNpt6EjCU6"
      },
      "source": [
        "# Nucleic Acid - Ligand Database (NALDB) RNA Ligands Extraction"
      ]
    },
    {
      "cell_type": "markdown",
      "metadata": {
        "id": "NZulKWxUeRHn"
      },
      "source": [
        "CONTENT\n",
        "1. Packages & Libraries\n",
        "2. Custom Functions\n",
        "  - `NALDBFetchComp(APBD1)`\n",
        "  - `pubmedSearch(pubmed_id, abstract, PDB_record, authors, title)`\n",
        "  - `PubChemCID(SMILE)`\n",
        "  - `RNACheck(title, abstract, mesh_terms)`\n",
        "  - `PubChemData(pubchem_cid)`\n",
        "  - `PubChemSDF(sdf_URL)`\n",
        "\n",
        "3. Extracting & Processing Data\n",
        "  1. Section I - Nucleic Acid Aptamer Binding Ligands\n",
        "  2. Section II - Nucleic Acid Special Structure Binding Ligand\n",
        "  3. Section III - G-quadruplex RNA Binding Ligands\n",
        "  4. Section IV - Double-stranded RNA Binding Ligands"
      ]
    },
    {
      "cell_type": "markdown",
      "metadata": {
        "id": "jJ8L_NC1j_fB"
      },
      "source": [
        "## Packages & Libraries"
      ]
    },
    {
      "cell_type": "code",
      "metadata": {
        "colab": {
          "base_uri": "https://localhost:8080/"
        },
        "id": "wRD-tnVykDdo",
        "outputId": "2adab450-036f-4ebc-9c0b-4655a5bf24fd"
      },
      "source": [
        "! pip install pubchempy\n",
        "! pip install biopython"
      ],
      "execution_count": null,
      "outputs": [
        {
          "output_type": "stream",
          "name": "stdout",
          "text": [
            "Requirement already satisfied: pubchempy in /usr/local/lib/python3.7/dist-packages (1.0.4)\n",
            "Requirement already satisfied: biopython in /usr/local/lib/python3.7/dist-packages (1.79)\n",
            "Requirement already satisfied: numpy in /usr/local/lib/python3.7/dist-packages (from biopython) (1.19.5)\n"
          ]
        }
      ]
    },
    {
      "cell_type": "code",
      "metadata": {
        "id": "97_MU9hekG6P"
      },
      "source": [
        "# For Webscrapping & REST API\n",
        "import re\n",
        "import requests\n",
        "from bs4 import BeautifulSoup\n",
        "\n",
        "# Accessing Bio/ Chem databases\n",
        "from Bio import Entrez\n",
        "from Bio import Medline\n",
        "import pubchempy as pcp\n",
        "\n",
        "# Data processing\n",
        "import numpy as np\n",
        "import pandas as pd\n",
        "\n",
        "# Miscellaneous\n",
        "import os\n",
        "import time\n",
        "from tqdm import tqdm\n",
        "from datetime import datetime"
      ],
      "execution_count": null,
      "outputs": []
    },
    {
      "cell_type": "code",
      "metadata": {
        "id": "CYAAl6IOKczD"
      },
      "source": [
        "start=datetime.now()"
      ],
      "execution_count": null,
      "outputs": []
    },
    {
      "cell_type": "markdown",
      "metadata": {
        "id": "_KlgX6yEkZRQ"
      },
      "source": [
        "## Custom Functions"
      ]
    },
    {
      "cell_type": "markdown",
      "metadata": {
        "id": "wg1UPhklz35D"
      },
      "source": [
        "### NALDBFetchComp(APBD1)"
      ]
    },
    {
      "cell_type": "code",
      "metadata": {
        "id": "FYrmo8hVNYwL"
      },
      "source": [
        "def NALDBFetchComp(comp_id):\n",
        "  \"\"\"\n",
        "  Webscrapping  function fetches the data from html page related to given \n",
        "  compound present in NALDB based on their compound ID (e.g., APBD10)\n",
        "  \"\"\"\n",
        "\n",
        "  page = requests.get(f\"http://bsbe.iiti.ac.in/bsbe/naldb/{comp_id}.php\")\n",
        "\n",
        "  soup = BeautifulSoup(page.content, 'html.parser')\n",
        "\n",
        "  # Extract content from <td> tags\n",
        "  td_html_tag = soup.select('td')\n",
        "\n",
        "  # Extract image src from <img> tags\n",
        "  img_html_tag = soup.select('img')\n",
        "\n",
        "  meta_data = dict()\n",
        "\n",
        "  # 'NALDB_ID'\n",
        "  naldb_id = soup.title.text\n",
        "\n",
        "  # 'pubmed_ID'\n",
        "  pubmed_ID = td_html_tag[9].text.strip()\n",
        "\n",
        "  # 'ligand_name'\n",
        "  ligand_name = td_html_tag[4].text.strip()\n",
        "\n",
        "  # 'target_name'\n",
        "  target_name = td_html_tag[2].text.strip()\n",
        "\n",
        "  # 'canonical_SMILES'\n",
        "  canonical_SMILES = td_html_tag[11].text\n",
        "\n",
        "  return ((naldb_id, pubmed_ID, ligand_name, target_name, canonical_SMILES))"
      ],
      "execution_count": null,
      "outputs": []
    },
    {
      "cell_type": "markdown",
      "metadata": {
        "id": "BDdJfxjs0Cc1"
      },
      "source": [
        "### pubmedSearch(pubmed_id, abstract, PDB_record, authors, title)"
      ]
    },
    {
      "cell_type": "code",
      "metadata": {
        "id": "jIK_2L9lX7Ps"
      },
      "source": [
        "def pubmedSearch(pubmed_id):\n",
        "  \"\"\"\n",
        "  Get the PDB ID of corresponding Pubmed entry. \n",
        "  If PDB ID present returns the ID, or else 'None'\n",
        "  \"\"\"\n",
        "  handle = Entrez.efetch(\n",
        "      db=\"pubmed\", \n",
        "      id=pubmed_id, \n",
        "      rettype=\"medline\", \n",
        "      retmode=\"text\")\n",
        "    \n",
        "  records = Medline.parse(handle)\n",
        "  records = list(records)[0]\n",
        "  return records"
      ],
      "execution_count": null,
      "outputs": []
    },
    {
      "cell_type": "markdown",
      "metadata": {
        "id": "V8z646MA0IbE"
      },
      "source": [
        "### PubChemCID(SMILE)"
      ]
    },
    {
      "cell_type": "code",
      "metadata": {
        "id": "3W7RfmrpsQgU"
      },
      "source": [
        "def PubChemCID(SMILE):\n",
        "  \"\"\"\n",
        "  Returns PubChem CID (ID) of given compound using\n",
        "  PubChem CID through pubchempy (pcp) python library\n",
        "  \"\"\"\n",
        "  cid = pcp.get_compounds(SMILE, 'smiles')\n",
        "  cid_extracted = re.findall(r'\\d+', str(cid[0]))\n",
        "\n",
        "  if len(cid_extracted)>=1:\n",
        "    return cid_extracted[0]\n",
        "  else:\n",
        "    return str(\"IDENTICAL_COMPOUND_ABSENT\")"
      ],
      "execution_count": null,
      "outputs": []
    },
    {
      "cell_type": "markdown",
      "metadata": {
        "id": "z8nTBUytmTBZ"
      },
      "source": [
        "### RNACheck(title, abstract, mesh_terms)"
      ]
    },
    {
      "cell_type": "code",
      "metadata": {
        "id": "LRVG4GxnlC7O"
      },
      "source": [
        "def RNACheck(title, abstract, mesh_terms):\n",
        "  \"\"\"Checks whether the given entries of \n",
        "  MeSH terms, Abtracts and Title contain RNA/Ribosome/Poly(A) terms\"\"\"\n",
        "\n",
        "  # Checking whether the word 'RNA' occurs in MeSH terms\n",
        "  # if present would return boolean value - True, else False\n",
        "  rna = any([\"RNA\" in (term.replace('/*', ',')) for term in mesh_terms])\n",
        "\n",
        "  # Checking whether the word 'Ribosome' occurs in MeSH terms\n",
        "  # if present would return boolean value - True, else False\n",
        "  ribosome = any([\"ribosome\" in term.replace('/*', ',').lower() for term in mesh_terms])\n",
        "\n",
        "  # Checking whether the word 'Poly(a)' occurs in MeSH terms, \n",
        "  # if present would return boolean value - True, else False\n",
        "  poly_a = any([\"poly(a)\" in term.replace('/*', ',').lower() for term in mesh_terms])\n",
        "\n",
        "  # Boolean operator 'any' would return True \n",
        "  # if one of the cases are True, else False\n",
        "  # i.e. either 'RNA' or 'Ribosome' or 'Poly(A)' \n",
        "  # should be present to return True\n",
        "  rna_mesh = any([rna, ribosome, poly_a])\n",
        "\n",
        "  rna_abstract = \"RNA\" in abstract\n",
        "\n",
        "  rna_title = \"RNA\" in title\n",
        "\n",
        "  # if 'RNA' word present in either MeSh terms, \n",
        "  # Abstract or Title return True, else False\n",
        "  rna_check = any([rna_title, rna_abstract, rna_mesh])\n",
        "\n",
        "  return rna_check"
      ],
      "execution_count": null,
      "outputs": []
    },
    {
      "cell_type": "markdown",
      "metadata": {
        "id": "XUkrd5Za0MYs"
      },
      "source": [
        "### PubChemData(pubchem_cid)"
      ]
    },
    {
      "cell_type": "code",
      "metadata": {
        "id": "5Ddu58F50LeL"
      },
      "source": [
        "def PubChemData(pubchem_cid):\n",
        "  \"\"\"\n",
        "  Returns PubChem information of given compound using\n",
        "  PubChem CID through pubchempy (pcp) python library\n",
        "  \"\"\"\n",
        "  compound = pcp.Compound.from_cid(pubchem_cid)\n",
        "\n",
        "  sdf_url = f\"https://pubchem.ncbi.nlm.nih.gov/rest/pug/compound/cid/{pubchem_cid}/SDF\"\n",
        "  image_url = f\"https://pubchem.ncbi.nlm.nih.gov/rest/pug/compound/cid/{pubchem_cid}/PNG\"\n",
        "\n",
        "  pubchem_meta_data = dict()\n",
        "\n",
        "  pubchem_meta_data[\"pubchem_id\"] = pubchem_cid\n",
        "  pubchem_meta_data[\"molecular_formula\"] = compound.molecular_formula\n",
        "  pubchem_meta_data[\"molecular_weight\"] = compound.molecular_weight\n",
        "  pubchem_meta_data[\"isomeric_smiles\"] = compound.isomeric_smiles\n",
        "  pubchem_meta_data[\"iupac_name\"] = compound.iupac_name\n",
        "  pubchem_meta_data[\"xlogp\"] = compound.xlogp\n",
        "  pubchem_meta_data[\"image_url\"] = image_url\n",
        "  pubchem_meta_data['SDF_file'] = sdf_url\n",
        "\n",
        "  return pubchem_meta_data"
      ],
      "execution_count": null,
      "outputs": []
    },
    {
      "cell_type": "markdown",
      "metadata": {
        "id": "zZ632o6y0PoL"
      },
      "source": [
        "### LigandSearchPDB(SMILE)"
      ]
    },
    {
      "cell_type": "code",
      "metadata": {
        "id": "J5edGGnsuZRU"
      },
      "source": [
        "def LigandSearchPDB(SMILE):\n",
        "  search_request = {\n",
        "    \"query\": {\n",
        "      \"type\": \"terminal\",\n",
        "      \"service\": \"chemical\",\n",
        "      \"parameters\": {\n",
        "        \"value\": SMILE,\n",
        "        \"type\": \"descriptor\",\n",
        "        \"descriptor_type\": \"SMILES\",\n",
        "        \"match_type\": \"graph-exact\"\n",
        "      }\n",
        "    },\n",
        "    \"return_type\": \"entry\"\n",
        "  }\n",
        "\n",
        "  search_url = f\"https://search.rcsb.org/rcsbsearch/v1/query?json=\"\n",
        "\n",
        "  request = requests.post(url=search_url, json=search_request)\n",
        "\n",
        "  search_results = dict(request.json())\n",
        "\n",
        "  pdb_ids_list = [search_results['result_set'][i].get('identifier') for i in range(len(search_results['result_set']))]\n",
        "\n",
        "  return pdb_ids_list"
      ],
      "execution_count": null,
      "outputs": []
    },
    {
      "cell_type": "markdown",
      "metadata": {
        "id": "pCZxVNPuWVvJ"
      },
      "source": [
        "### PubChemSDF( )\n"
      ]
    },
    {
      "cell_type": "code",
      "metadata": {
        "id": "6rgCskOOjEt2",
        "colab": {
          "base_uri": "https://localhost:8080/"
        },
        "outputId": "3211c8ff-0931-48c4-b291-5a083f71f772"
      },
      "source": [
        "\"\"\"\n",
        "from tqdm import tqdm\n",
        "import requests\n",
        "\n",
        "response = requests.get(download_url, stream=True)\n",
        "\n",
        "with open(f\"{cid_extracted}.sdf\", \"wb\") as handle:\n",
        "    for data in tqdm(response.iter_content()):\n",
        "        handle.write(data)\n",
        "\n",
        "\"\"\"        "
      ],
      "execution_count": null,
      "outputs": [
        {
          "output_type": "execute_result",
          "data": {
            "application/vnd.google.colaboratory.intrinsic+json": {
              "type": "string"
            },
            "text/plain": [
              "'\\nfrom tqdm import tqdm\\nimport requests\\n\\nresponse = requests.get(download_url, stream=True)\\n\\nwith open(f\"{cid_extracted}.sdf\", \"wb\") as handle:\\n    for data in tqdm(response.iter_content()):\\n        handle.write(data)\\n\\n'"
            ]
          },
          "metadata": {},
          "execution_count": 10
        }
      ]
    },
    {
      "cell_type": "code",
      "metadata": {
        "id": "XHPNIlxpxO8b"
      },
      "source": [
        "# ! cat /content/238.sdf"
      ],
      "execution_count": null,
      "outputs": []
    },
    {
      "cell_type": "markdown",
      "metadata": {
        "id": "kAA2yF18Y1TO"
      },
      "source": [
        "### Splitting Double Ids"
      ]
    },
    {
      "cell_type": "code",
      "metadata": {
        "colab": {
          "base_uri": "https://localhost:8080/"
        },
        "id": "aY076Y6Dr3nn",
        "outputId": "04323c7c-d839-49cd-ff36-f1ca5a2ead9a"
      },
      "source": [
        "\"\"\"double_ids = list()\n",
        "double_ids_split = list()\n",
        "for ids in np.unique(dataframe['pubmed_ID']):\n",
        "  if len(ids.split('&'))>1:\n",
        "    double_ids.append(ids)\n",
        "    id1 = str(ids.split('&')[0].strip())\n",
        "    double_ids_split.append(id1)\n",
        "    id2 = str(ids.split('&')[1].strip())\n",
        "    double_ids_split.append(id2)\n",
        "\n",
        "ids = \"12656603 &   20167243\"\n",
        "\n",
        "\n",
        "columns_to_fetch = [0, 2, 3, 4, 5, 6, 7, 8, 9, 10, 11, 12, 13, 14, 15, 16]\n",
        "\n",
        "df = dataframe.iloc[:, columns_to_fetch][dataframe['pubmed_ID']==ids]\n",
        "df.insert(loc=1, column='pubmed_ID', value=id1)\n",
        "dataframe.append(df)\n",
        "\n",
        "#drop_row_index = dataframe[dataframe['pubmed_ID']==ids].index\n",
        "\n",
        "#dataframe.drop(drop_row_index, inplace = True)    \"\"\""
      ],
      "execution_count": null,
      "outputs": [
        {
          "output_type": "execute_result",
          "data": {
            "application/vnd.google.colaboratory.intrinsic+json": {
              "type": "string"
            },
            "text/plain": [
              "'double_ids = list()\\ndouble_ids_split = list()\\nfor ids in np.unique(dataframe[\\'pubmed_ID\\']):\\n  if len(ids.split(\\'&\\'))>1:\\n    double_ids.append(ids)\\n    id1 = str(ids.split(\\'&\\')[0].strip())\\n    double_ids_split.append(id1)\\n    id2 = str(ids.split(\\'&\\')[1].strip())\\n    double_ids_split.append(id2)\\n\\nids = \"12656603 &   20167243\"\\n\\n\\ncolumns_to_fetch = [0, 2, 3, 4, 5, 6, 7, 8, 9, 10, 11, 12, 13, 14, 15, 16]\\n\\ndf = dataframe.iloc[:, columns_to_fetch][dataframe[\\'pubmed_ID\\']==ids]\\ndf.insert(loc=1, column=\\'pubmed_ID\\', value=id1)\\ndataframe.append(df)\\n\\n#drop_row_index = dataframe[dataframe[\\'pubmed_ID\\']==ids].index\\n\\n#dataframe.drop(drop_row_index, inplace = True)    '"
            ]
          },
          "metadata": {},
          "execution_count": 12
        }
      ]
    },
    {
      "cell_type": "markdown",
      "metadata": {
        "id": "csM_X4oeRHu3"
      },
      "source": [
        "## Extracting Data"
      ]
    },
    {
      "cell_type": "markdown",
      "metadata": {
        "id": "BZIHj0HbdFk-"
      },
      "source": [
        "### Section I - Nucleic Acid Aptamer Binding Ligands Data"
      ]
    },
    {
      "cell_type": "markdown",
      "metadata": {
        "id": "tjHjLuRwKFyo"
      },
      "source": [
        "#### Extracting NALDB Section I Entries"
      ]
    },
    {
      "cell_type": "code",
      "metadata": {
        "id": "yEwGHHkZcLwd"
      },
      "source": [
        "# creating list of all the Ligand ID in \n",
        "# NALDB's Nucleic Acid Aptamer Binding Ligands Data section\n",
        "naldb_section_one_IDs = [f\"APBD{no}\" for no in np.arange(1, 484)]\n",
        "\n",
        "# Column names for pandas dataframe and excel sheet\n",
        "column_names=('naldb_ID', 'pubmed_ID', \n",
        "              'ligand_name', 'target_name', 'canonical_SMILES')"
      ],
      "execution_count": null,
      "outputs": []
    },
    {
      "cell_type": "code",
      "metadata": {
        "colab": {
          "base_uri": "https://localhost:8080/"
        },
        "id": "68gGUu8xcNRa",
        "outputId": "8e3440b5-55ce-4ffc-edf0-d5604b8ca136"
      },
      "source": [
        "# Iterating over all the entries of the \n",
        "# NALDB's Nucleic Acid Aptamer Binding Ligands Data section\n",
        "# and storing the values of each ligand entries\n",
        "code_pause = 0\n",
        "naldb_section_one_data = list()\n",
        "for id in tqdm(naldb_section_one_IDs):\n",
        "  naldb_section_one_data.append(NALDBFetchComp(id))\n",
        "  \n",
        "  if code_pause>=20:\n",
        "    time.sleep(1)\n",
        "    code_pause=0\n",
        "  \n",
        "  code_pause+=1"
      ],
      "execution_count": null,
      "outputs": [
        {
          "output_type": "stream",
          "name": "stderr",
          "text": [
            "100%|██████████| 483/483 [04:24<00:00,  1.83it/s]\n"
          ]
        }
      ]
    },
    {
      "cell_type": "code",
      "metadata": {
        "id": "ge37S91VcNJc"
      },
      "source": [
        "# Creating dataframe from fetched naldb \n",
        "# 'Nucleic acid aptamer binding ligands' entries\n",
        "section_one_naldb_all = pd.DataFrame(naldb_section_one_data, columns=column_names)"
      ],
      "execution_count": null,
      "outputs": []
    },
    {
      "cell_type": "code",
      "metadata": {
        "colab": {
          "base_uri": "https://localhost:8080/",
          "height": 202
        },
        "id": "Jl2tJzanetjt",
        "outputId": "3ef3583f-7c4a-4609-eaff-beb0fd097431"
      },
      "source": [
        "section_one_naldb_all.head(5)"
      ],
      "execution_count": null,
      "outputs": [
        {
          "output_type": "execute_result",
          "data": {
            "text/html": [
              "<div>\n",
              "<style scoped>\n",
              "    .dataframe tbody tr th:only-of-type {\n",
              "        vertical-align: middle;\n",
              "    }\n",
              "\n",
              "    .dataframe tbody tr th {\n",
              "        vertical-align: top;\n",
              "    }\n",
              "\n",
              "    .dataframe thead th {\n",
              "        text-align: right;\n",
              "    }\n",
              "</style>\n",
              "<table border=\"1\" class=\"dataframe\">\n",
              "  <thead>\n",
              "    <tr style=\"text-align: right;\">\n",
              "      <th></th>\n",
              "      <th>naldb_ID</th>\n",
              "      <th>pubmed_ID</th>\n",
              "      <th>ligand_name</th>\n",
              "      <th>target_name</th>\n",
              "      <th>canonical_SMILES</th>\n",
              "    </tr>\n",
              "  </thead>\n",
              "  <tbody>\n",
              "    <tr>\n",
              "      <th>0</th>\n",
              "      <td>APBD1</td>\n",
              "      <td>24168267</td>\n",
              "      <td>ATP</td>\n",
              "      <td>SSA-1</td>\n",
              "      <td>NC1=NC=NC2=C1N=CN2C1OC(COP(O)(=O)OP(O)(=O)OP(O...</td>\n",
              "    </tr>\n",
              "    <tr>\n",
              "      <th>1</th>\n",
              "      <td>APBD2</td>\n",
              "      <td>23971905</td>\n",
              "      <td>ABA</td>\n",
              "      <td>Aptamer 2</td>\n",
              "      <td>C\\C(\\C=C\\[C@@]1(O)C(C)=CC(=O)CC1(C)C)=C\\C(O)=O</td>\n",
              "    </tr>\n",
              "    <tr>\n",
              "      <th>2</th>\n",
              "      <td>APBD3</td>\n",
              "      <td>23971905</td>\n",
              "      <td>ABA</td>\n",
              "      <td>aptamer 9</td>\n",
              "      <td>C\\C(\\C=C\\[C@@]1(O)C(C)=CC(=O)CC1(C)C)=C\\C(O)=O</td>\n",
              "    </tr>\n",
              "    <tr>\n",
              "      <th>3</th>\n",
              "      <td>APBD4</td>\n",
              "      <td>23830440</td>\n",
              "      <td>opiµM alkaloid codeine (3-methylmorphine)</td>\n",
              "      <td>HL7-14</td>\n",
              "      <td>[H][C@@]12OC3=C(OC)C=CC4=C3C11CCN(C)[C@H](C4)[...</td>\n",
              "    </tr>\n",
              "    <tr>\n",
              "      <th>4</th>\n",
              "      <td>APBD5</td>\n",
              "      <td>23734784</td>\n",
              "      <td>CPT1</td>\n",
              "      <td>CMA-70</td>\n",
              "      <td>[H]NC(=O)COCC(=O)NCCOCCOCCOCCOCCOCCOCCOCCOCCOC...</td>\n",
              "    </tr>\n",
              "  </tbody>\n",
              "</table>\n",
              "</div>"
            ],
            "text/plain": [
              "  naldb_ID  ...                                   canonical_SMILES\n",
              "0    APBD1  ...  NC1=NC=NC2=C1N=CN2C1OC(COP(O)(=O)OP(O)(=O)OP(O...\n",
              "1   APBD2   ...     C\\C(\\C=C\\[C@@]1(O)C(C)=CC(=O)CC1(C)C)=C\\C(O)=O\n",
              "2   APBD3   ...     C\\C(\\C=C\\[C@@]1(O)C(C)=CC(=O)CC1(C)C)=C\\C(O)=O\n",
              "3   APBD4   ...  [H][C@@]12OC3=C(OC)C=CC4=C3C11CCN(C)[C@H](C4)[...\n",
              "4   APBD5   ...  [H]NC(=O)COCC(=O)NCCOCCOCCOCCOCCOCCOCCOCCOCCOC...\n",
              "\n",
              "[5 rows x 5 columns]"
            ]
          },
          "metadata": {},
          "execution_count": 16
        }
      ]
    },
    {
      "cell_type": "markdown",
      "metadata": {
        "id": "26mjyzqWb8Nk"
      },
      "source": [
        "#### Extracting RNA Entries\n"
      ]
    },
    {
      "cell_type": "code",
      "metadata": {
        "id": "EI-yWV8DkbR4"
      },
      "source": [
        "Entrez.email = \"akishirsath@gmail.com\""
      ],
      "execution_count": null,
      "outputs": []
    },
    {
      "cell_type": "code",
      "metadata": {
        "colab": {
          "base_uri": "https://localhost:8080/"
        },
        "id": "9C42HBPYV4Zc",
        "outputId": "d02e4190-e35d-4da8-b892-b430a21df129"
      },
      "source": [
        "count=0\n",
        "RNA_related = dict()\n",
        "DNA_related = dict()\n",
        "\n",
        "for id in tqdm(section_one_naldb_all['pubmed_ID']):\n",
        "\n",
        "  pubmed_data = pubmedSearch(id)\n",
        "\n",
        "  # Getting PDB ID if available\n",
        "  pdb_id = pubmed_data.get('SI', \"NA\")\n",
        "\n",
        "  # Getting Authors\n",
        "  authors = pubmed_data.get('AU', \"NA\")\n",
        "\n",
        "  # Getting Title\n",
        "  title = pubmed_data.get('TI', \"NA\")\n",
        "\n",
        "  # Getting Abstract\n",
        "  abstract = pubmed_data.get('AB', \"NA\")\n",
        "\n",
        "  # Getting research article source\n",
        "  source = pubmed_data.get('SO', \"NA\")\n",
        "\n",
        "  # MeSH terms\n",
        "  mesh_terms = pubmed_data.get('MH', \"NA\")\n",
        "\n",
        "  RNA_check = RNACheck(title, abstract, mesh_terms)\n",
        "\n",
        "  if RNA_check:\n",
        "    RNA_related[id] = {\n",
        "        'PDB_ID'   : pdb_id,\n",
        "        'Title'    : title,\n",
        "        'Authors'  : authors,\n",
        "        'Abstract' : abstract,\n",
        "        'Source'   : source\n",
        "    }\n",
        "  else:\n",
        "    DNA_related[id] = {\n",
        "        'PDB_ID'   : pdb_id,\n",
        "        'Title'    : title,\n",
        "        'Authors'  : authors,\n",
        "        'Abstract' : abstract,\n",
        "        'Source'   : source\n",
        "    }\n",
        "\n",
        "  if count>=10:\n",
        "    time.sleep(1)\n",
        "    count=0\n",
        "  count+=1"
      ],
      "execution_count": null,
      "outputs": [
        {
          "output_type": "stream",
          "name": "stderr",
          "text": [
            "100%|██████████| 483/483 [04:36<00:00,  1.75it/s]\n"
          ]
        }
      ]
    },
    {
      "cell_type": "code",
      "metadata": {
        "id": "Pt8sAvBTr2WZ"
      },
      "source": [
        "# Creating dataframe from fetched naldb \n",
        "# 'Nucleic acid aptamer binding ligands' entries\n",
        "section_one_naldb_RNA = section_one_naldb_all[section_one_naldb_all['pubmed_ID'].isin(list(RNA_related.keys()))]"
      ],
      "execution_count": null,
      "outputs": []
    },
    {
      "cell_type": "code",
      "metadata": {
        "id": "NGz2uczL_hKL"
      },
      "source": [
        "# Reset the index values to the second dataframe appends properly\n",
        "section_one_naldb_RNA = section_one_naldb_RNA.reset_index(drop=True)"
      ],
      "execution_count": null,
      "outputs": []
    },
    {
      "cell_type": "code",
      "metadata": {
        "colab": {
          "base_uri": "https://localhost:8080/",
          "height": 202
        },
        "id": "KUszn3gr_7Yc",
        "outputId": "bcc30bab-ca08-4c9a-d7aa-1b3665e1f7dc"
      },
      "source": [
        "section_one_naldb_RNA.head(5)"
      ],
      "execution_count": null,
      "outputs": [
        {
          "output_type": "execute_result",
          "data": {
            "text/html": [
              "<div>\n",
              "<style scoped>\n",
              "    .dataframe tbody tr th:only-of-type {\n",
              "        vertical-align: middle;\n",
              "    }\n",
              "\n",
              "    .dataframe tbody tr th {\n",
              "        vertical-align: top;\n",
              "    }\n",
              "\n",
              "    .dataframe thead th {\n",
              "        text-align: right;\n",
              "    }\n",
              "</style>\n",
              "<table border=\"1\" class=\"dataframe\">\n",
              "  <thead>\n",
              "    <tr style=\"text-align: right;\">\n",
              "      <th></th>\n",
              "      <th>naldb_ID</th>\n",
              "      <th>pubmed_ID</th>\n",
              "      <th>ligand_name</th>\n",
              "      <th>target_name</th>\n",
              "      <th>canonical_SMILES</th>\n",
              "    </tr>\n",
              "  </thead>\n",
              "  <tbody>\n",
              "    <tr>\n",
              "      <th>0</th>\n",
              "      <td>APBD39</td>\n",
              "      <td>25699094</td>\n",
              "      <td>Cholesterol</td>\n",
              "      <td>nucleolin aptamer</td>\n",
              "      <td>[H][C@@]1(CC[C@@]2([H])[C@]3([H])CC=C4C[C@@]([...</td>\n",
              "    </tr>\n",
              "    <tr>\n",
              "      <th>1</th>\n",
              "      <td>APBD40</td>\n",
              "      <td>25699094</td>\n",
              "      <td>Chlorin e6 (Ce6)</td>\n",
              "      <td>aptamer TD05</td>\n",
              "      <td>[H][C@@]1(C)\\C2=C\\C3=C(C)C(C=C)=C(N3)\\C=C3/N=C...</td>\n",
              "    </tr>\n",
              "    <tr>\n",
              "      <th>2</th>\n",
              "      <td>APBD54</td>\n",
              "      <td>20166743</td>\n",
              "      <td>TMPyP4</td>\n",
              "      <td>AS1411 aptamer</td>\n",
              "      <td>C[N+]1=CC=C(C=C1)C1=C2\\C=CC(=N2)\\C(=C2/N\\C(\\C=...</td>\n",
              "    </tr>\n",
              "    <tr>\n",
              "      <th>3</th>\n",
              "      <td>APBD114</td>\n",
              "      <td>10926496</td>\n",
              "      <td>Malachite green (MG)</td>\n",
              "      <td>malachite green RNA aptamer (MGA)</td>\n",
              "      <td>CN(C)C1=CC=C(C=C1)C(C1=CC=CC=C1)=C1C=CC(C=C1)=...</td>\n",
              "    </tr>\n",
              "    <tr>\n",
              "      <th>4</th>\n",
              "      <td>APBD115</td>\n",
              "      <td>10926496</td>\n",
              "      <td>Crystal violet (CV)</td>\n",
              "      <td>malachite green RNA aptamer (MGA)</td>\n",
              "      <td>CN(C)C1=CC=C(C=C1)C(C1=CC=C(C=C1)N(C)C)=C1C=CC...</td>\n",
              "    </tr>\n",
              "  </tbody>\n",
              "</table>\n",
              "</div>"
            ],
            "text/plain": [
              "   naldb_ID  ...                                   canonical_SMILES\n",
              "0   APBD39   ...  [H][C@@]1(CC[C@@]2([H])[C@]3([H])CC=C4C[C@@]([...\n",
              "1   APBD40   ...  [H][C@@]1(C)\\C2=C\\C3=C(C)C(C=C)=C(N3)\\C=C3/N=C...\n",
              "2   APBD54   ...  C[N+]1=CC=C(C=C1)C1=C2\\C=CC(=N2)\\C(=C2/N\\C(\\C=...\n",
              "3  APBD114   ...  CN(C)C1=CC=C(C=C1)C(C1=CC=CC=C1)=C1C=CC(C=C1)=...\n",
              "4  APBD115   ...  CN(C)C1=CC=C(C=C1)C(C1=CC=C(C=C1)N(C)C)=C1C=CC...\n",
              "\n",
              "[5 rows x 5 columns]"
            ]
          },
          "metadata": {},
          "execution_count": 21
        }
      ]
    },
    {
      "cell_type": "markdown",
      "metadata": {
        "id": "ZEsd_Mn_B-cw"
      },
      "source": [
        "#### Adding PDB & DOI columns"
      ]
    },
    {
      "cell_type": "code",
      "metadata": {
        "colab": {
          "base_uri": "https://localhost:8080/"
        },
        "id": "DzcTHdTs-S08",
        "outputId": "c3ec88fd-9390-48b0-853f-ef92eff09e2c"
      },
      "source": [
        "pubmed_section_one_data = list()\n",
        "for id in tqdm(section_one_naldb_RNA['pubmed_ID']):\n",
        "  title = RNA_related.get(id).get('Title')\n",
        "  authors = \", \".join(RNA_related.get(id).get('Authors'))\n",
        "  doi = RNA_related.get(id).get('Source')\n",
        "\n",
        "  resource = \"; \".join((title, authors, doi))\n",
        "  pdb = RNA_related.get(id).get('PDB_ID')\n",
        "\n",
        "  pubmed_section_one_data.append((pdb, resource))"
      ],
      "execution_count": null,
      "outputs": [
        {
          "output_type": "stream",
          "name": "stderr",
          "text": [
            "100%|██████████| 334/334 [00:00<00:00, 123296.74it/s]\n"
          ]
        }
      ]
    },
    {
      "cell_type": "code",
      "metadata": {
        "id": "1zmZ1AFk_Wpa"
      },
      "source": [
        "# Creating dataframe from fetched naldb \n",
        "# 'Nucleic acid aptamer binding ligands' entries\n",
        "section_one_pubmed_RNA = pd.DataFrame(pubmed_section_one_data, columns=[\"PDB\", \"Resource\"])"
      ],
      "execution_count": null,
      "outputs": []
    },
    {
      "cell_type": "code",
      "metadata": {
        "id": "Ickge-G2ABaS"
      },
      "source": [
        "# Place the DataFrames side by side\n",
        "section_one_RNA = pd.concat([section_one_naldb_RNA, section_one_pubmed_RNA], axis=1)"
      ],
      "execution_count": null,
      "outputs": []
    },
    {
      "cell_type": "code",
      "metadata": {
        "colab": {
          "base_uri": "https://localhost:8080/"
        },
        "id": "tzmWsWN0AMR7",
        "outputId": "472aa380-d379-4932-a2a7-8c1f6a8a99e5"
      },
      "source": [
        "section_one_RNA.head(5)"
      ],
      "execution_count": null,
      "outputs": [
        {
          "output_type": "execute_result",
          "data": {
            "text/html": [
              "<div>\n",
              "<style scoped>\n",
              "    .dataframe tbody tr th:only-of-type {\n",
              "        vertical-align: middle;\n",
              "    }\n",
              "\n",
              "    .dataframe tbody tr th {\n",
              "        vertical-align: top;\n",
              "    }\n",
              "\n",
              "    .dataframe thead th {\n",
              "        text-align: right;\n",
              "    }\n",
              "</style>\n",
              "<table border=\"1\" class=\"dataframe\">\n",
              "  <thead>\n",
              "    <tr style=\"text-align: right;\">\n",
              "      <th></th>\n",
              "      <th>naldb_ID</th>\n",
              "      <th>pubmed_ID</th>\n",
              "      <th>ligand_name</th>\n",
              "      <th>target_name</th>\n",
              "      <th>canonical_SMILES</th>\n",
              "      <th>PDB</th>\n",
              "      <th>Resource</th>\n",
              "    </tr>\n",
              "  </thead>\n",
              "  <tbody>\n",
              "    <tr>\n",
              "      <th>0</th>\n",
              "      <td>APBD39</td>\n",
              "      <td>25699094</td>\n",
              "      <td>Cholesterol</td>\n",
              "      <td>nucleolin aptamer</td>\n",
              "      <td>[H][C@@]1(CC[C@@]2([H])[C@]3([H])CC=C4C[C@@]([...</td>\n",
              "      <td>NA</td>\n",
              "      <td>Aptamers: active targeting ligands for cancer ...</td>\n",
              "    </tr>\n",
              "    <tr>\n",
              "      <th>1</th>\n",
              "      <td>APBD40</td>\n",
              "      <td>25699094</td>\n",
              "      <td>Chlorin e6 (Ce6)</td>\n",
              "      <td>aptamer TD05</td>\n",
              "      <td>[H][C@@]1(C)\\C2=C\\C3=C(C)C(C=C)=C(N3)\\C=C3/N=C...</td>\n",
              "      <td>NA</td>\n",
              "      <td>Aptamers: active targeting ligands for cancer ...</td>\n",
              "    </tr>\n",
              "    <tr>\n",
              "      <th>2</th>\n",
              "      <td>APBD54</td>\n",
              "      <td>20166743</td>\n",
              "      <td>TMPyP4</td>\n",
              "      <td>AS1411 aptamer</td>\n",
              "      <td>C[N+]1=CC=C(C=C1)C1=C2\\C=CC(=N2)\\C(=C2/N\\C(\\C=...</td>\n",
              "      <td>NA</td>\n",
              "      <td>Aptamer-based tumor-targeted drug delivery for...</td>\n",
              "    </tr>\n",
              "    <tr>\n",
              "      <th>3</th>\n",
              "      <td>APBD114</td>\n",
              "      <td>10926496</td>\n",
              "      <td>Malachite green (MG)</td>\n",
              "      <td>malachite green RNA aptamer (MGA)</td>\n",
              "      <td>CN(C)C1=CC=C(C=C1)C(C1=CC=CC=C1)=C1C=CC(C=C1)=...</td>\n",
              "      <td>[PDB/1F1T]</td>\n",
              "      <td>2.8 A crystal structure of the malachite green...</td>\n",
              "    </tr>\n",
              "    <tr>\n",
              "      <th>4</th>\n",
              "      <td>APBD115</td>\n",
              "      <td>10926496</td>\n",
              "      <td>Crystal violet (CV)</td>\n",
              "      <td>malachite green RNA aptamer (MGA)</td>\n",
              "      <td>CN(C)C1=CC=C(C=C1)C(C1=CC=C(C=C1)N(C)C)=C1C=CC...</td>\n",
              "      <td>[PDB/1F1T]</td>\n",
              "      <td>2.8 A crystal structure of the malachite green...</td>\n",
              "    </tr>\n",
              "  </tbody>\n",
              "</table>\n",
              "</div>"
            ],
            "text/plain": [
              "   naldb_ID  ...                                           Resource\n",
              "0   APBD39   ...  Aptamers: active targeting ligands for cancer ...\n",
              "1   APBD40   ...  Aptamers: active targeting ligands for cancer ...\n",
              "2   APBD54   ...  Aptamer-based tumor-targeted drug delivery for...\n",
              "3  APBD114   ...  2.8 A crystal structure of the malachite green...\n",
              "4  APBD115   ...  2.8 A crystal structure of the malachite green...\n",
              "\n",
              "[5 rows x 7 columns]"
            ]
          },
          "metadata": {},
          "execution_count": 25
        }
      ]
    },
    {
      "cell_type": "markdown",
      "metadata": {
        "id": "ZnScBlAoCKdJ"
      },
      "source": [
        "#### Fetching CID corresponding to given SMILE"
      ]
    },
    {
      "cell_type": "code",
      "metadata": {
        "colab": {
          "base_uri": "https://localhost:8080/"
        },
        "id": "augBbfUiBnL_",
        "outputId": "9e6ee4c5-e595-457c-92b0-bbfcd17b0e64"
      },
      "source": [
        "cids_list = list()\n",
        "for SMILE in tqdm(section_one_RNA['canonical_SMILES']):\n",
        "  cids_list.append(PubChemCID(SMILE))"
      ],
      "execution_count": null,
      "outputs": [
        {
          "output_type": "stream",
          "name": "stderr",
          "text": [
            "100%|██████████| 334/334 [03:01<00:00,  1.84it/s]\n"
          ]
        }
      ]
    },
    {
      "cell_type": "code",
      "metadata": {
        "id": "sDT3JNFWDo-l"
      },
      "source": [
        "section_one_RNA[\"CID\"]=cids_list"
      ],
      "execution_count": null,
      "outputs": []
    },
    {
      "cell_type": "code",
      "metadata": {
        "colab": {
          "base_uri": "https://localhost:8080/"
        },
        "id": "NOf4YTKYEEKH",
        "outputId": "453fe06a-9f2f-418f-fdc4-b9c50c00d41c"
      },
      "source": [
        "section_one_RNA.head()"
      ],
      "execution_count": null,
      "outputs": [
        {
          "output_type": "execute_result",
          "data": {
            "text/html": [
              "<div>\n",
              "<style scoped>\n",
              "    .dataframe tbody tr th:only-of-type {\n",
              "        vertical-align: middle;\n",
              "    }\n",
              "\n",
              "    .dataframe tbody tr th {\n",
              "        vertical-align: top;\n",
              "    }\n",
              "\n",
              "    .dataframe thead th {\n",
              "        text-align: right;\n",
              "    }\n",
              "</style>\n",
              "<table border=\"1\" class=\"dataframe\">\n",
              "  <thead>\n",
              "    <tr style=\"text-align: right;\">\n",
              "      <th></th>\n",
              "      <th>naldb_ID</th>\n",
              "      <th>pubmed_ID</th>\n",
              "      <th>ligand_name</th>\n",
              "      <th>target_name</th>\n",
              "      <th>canonical_SMILES</th>\n",
              "      <th>PDB</th>\n",
              "      <th>Resource</th>\n",
              "      <th>CID</th>\n",
              "    </tr>\n",
              "  </thead>\n",
              "  <tbody>\n",
              "    <tr>\n",
              "      <th>0</th>\n",
              "      <td>APBD39</td>\n",
              "      <td>25699094</td>\n",
              "      <td>Cholesterol</td>\n",
              "      <td>nucleolin aptamer</td>\n",
              "      <td>[H][C@@]1(CC[C@@]2([H])[C@]3([H])CC=C4C[C@@]([...</td>\n",
              "      <td>NA</td>\n",
              "      <td>Aptamers: active targeting ligands for cancer ...</td>\n",
              "      <td>5997</td>\n",
              "    </tr>\n",
              "    <tr>\n",
              "      <th>1</th>\n",
              "      <td>APBD40</td>\n",
              "      <td>25699094</td>\n",
              "      <td>Chlorin e6 (Ce6)</td>\n",
              "      <td>aptamer TD05</td>\n",
              "      <td>[H][C@@]1(C)\\C2=C\\C3=C(C)C(C=C)=C(N3)\\C=C3/N=C...</td>\n",
              "      <td>NA</td>\n",
              "      <td>Aptamers: active targeting ligands for cancer ...</td>\n",
              "      <td>IDENTICAL_COMPOUND_ABSENT</td>\n",
              "    </tr>\n",
              "    <tr>\n",
              "      <th>2</th>\n",
              "      <td>APBD54</td>\n",
              "      <td>20166743</td>\n",
              "      <td>TMPyP4</td>\n",
              "      <td>AS1411 aptamer</td>\n",
              "      <td>C[N+]1=CC=C(C=C1)C1=C2\\C=CC(=N2)\\C(=C2/N\\C(\\C=...</td>\n",
              "      <td>NA</td>\n",
              "      <td>Aptamer-based tumor-targeted drug delivery for...</td>\n",
              "      <td>135398505</td>\n",
              "    </tr>\n",
              "    <tr>\n",
              "      <th>3</th>\n",
              "      <td>APBD114</td>\n",
              "      <td>10926496</td>\n",
              "      <td>Malachite green (MG)</td>\n",
              "      <td>malachite green RNA aptamer (MGA)</td>\n",
              "      <td>CN(C)C1=CC=C(C=C1)C(C1=CC=CC=C1)=C1C=CC(C=C1)=...</td>\n",
              "      <td>[PDB/1F1T]</td>\n",
              "      <td>2.8 A crystal structure of the malachite green...</td>\n",
              "      <td>11295</td>\n",
              "    </tr>\n",
              "    <tr>\n",
              "      <th>4</th>\n",
              "      <td>APBD115</td>\n",
              "      <td>10926496</td>\n",
              "      <td>Crystal violet (CV)</td>\n",
              "      <td>malachite green RNA aptamer (MGA)</td>\n",
              "      <td>CN(C)C1=CC=C(C=C1)C(C1=CC=C(C=C1)N(C)C)=C1C=CC...</td>\n",
              "      <td>[PDB/1F1T]</td>\n",
              "      <td>2.8 A crystal structure of the malachite green...</td>\n",
              "      <td>3468</td>\n",
              "    </tr>\n",
              "  </tbody>\n",
              "</table>\n",
              "</div>"
            ],
            "text/plain": [
              "   naldb_ID  ...                        CID\n",
              "0   APBD39   ...                       5997\n",
              "1   APBD40   ...  IDENTICAL_COMPOUND_ABSENT\n",
              "2   APBD54   ...                  135398505\n",
              "3  APBD114   ...                      11295\n",
              "4  APBD115   ...                       3468\n",
              "\n",
              "[5 rows x 8 columns]"
            ]
          },
          "metadata": {},
          "execution_count": 28
        }
      ]
    },
    {
      "cell_type": "markdown",
      "metadata": {
        "id": "pfEa6SWQIIoI"
      },
      "source": [
        "#### Fetching PubChem Data for corresponding to CID"
      ]
    },
    {
      "cell_type": "code",
      "metadata": {
        "colab": {
          "base_uri": "https://localhost:8080/"
        },
        "id": "ImGIazhvEK6D",
        "outputId": "8336aad9-f81e-4f00-bd0a-e7d625c0b999"
      },
      "source": [
        "pubchem_data = list()\n",
        "\n",
        "for SMILE in tqdm(section_one_RNA['CID']):\n",
        "  if SMILE !=\"IDENTICAL_COMPOUND_ABSENT\":\n",
        "    data = PubChemData(SMILE)\n",
        "    pubchem_data.append(tuple((list(data.values())[1:])))\n",
        "    time.sleep(1)\n",
        "  else:\n",
        "    pubchem_data.append(('NA', 'NA', 'NA', 'NA', 'NA', 'NA', 'NA'))\n"
      ],
      "execution_count": null,
      "outputs": [
        {
          "output_type": "stream",
          "name": "stderr",
          "text": [
            "100%|██████████| 334/334 [04:53<00:00,  1.14it/s]\n"
          ]
        }
      ]
    },
    {
      "cell_type": "code",
      "metadata": {
        "id": "TH8faZZEHWAR"
      },
      "source": [
        "section_one_pubchem_RNA = pd.DataFrame(pubchem_data, \n",
        "                                   columns=[\"molecular_formula\", \n",
        "                                            \"molecular_weight\", \n",
        "                                            \"isomeric_smiles\", \n",
        "                                            \"iupac_name\", \n",
        "                                            \"xlogp\", \n",
        "                                            \"image_url\", \n",
        "                                            \"SDF_file\"])"
      ],
      "execution_count": null,
      "outputs": []
    },
    {
      "cell_type": "markdown",
      "metadata": {
        "id": "EprNpvxdR09K"
      },
      "source": [
        "#### Combining all the data into one sheet (Dataframe)"
      ]
    },
    {
      "cell_type": "code",
      "metadata": {
        "id": "YCJ-650vPNk-"
      },
      "source": [
        "# Reset the index values to the second dataframe appends properly\n",
        "section_one_RNA = section_one_RNA.reset_index(drop=True)"
      ],
      "execution_count": null,
      "outputs": []
    },
    {
      "cell_type": "code",
      "metadata": {
        "id": "CTj89kFKH-eN"
      },
      "source": [
        "# Place the DataFrames side by side\n",
        "section_one_RNA = pd.concat([section_one_RNA, section_one_pubchem_RNA], axis=1)\n",
        "section_one_RNA = section_one_RNA.reset_index(drop=True)"
      ],
      "execution_count": null,
      "outputs": []
    },
    {
      "cell_type": "code",
      "metadata": {
        "colab": {
          "base_uri": "https://localhost:8080/",
          "height": 657
        },
        "id": "dkhcoKvhIXXK",
        "outputId": "aaf2bfb8-1626-411e-c986-f62e57a37f1e"
      },
      "source": [
        "section_one_RNA.head()"
      ],
      "execution_count": null,
      "outputs": [
        {
          "output_type": "execute_result",
          "data": {
            "text/html": [
              "<div>\n",
              "<style scoped>\n",
              "    .dataframe tbody tr th:only-of-type {\n",
              "        vertical-align: middle;\n",
              "    }\n",
              "\n",
              "    .dataframe tbody tr th {\n",
              "        vertical-align: top;\n",
              "    }\n",
              "\n",
              "    .dataframe thead th {\n",
              "        text-align: right;\n",
              "    }\n",
              "</style>\n",
              "<table border=\"1\" class=\"dataframe\">\n",
              "  <thead>\n",
              "    <tr style=\"text-align: right;\">\n",
              "      <th></th>\n",
              "      <th>naldb_ID</th>\n",
              "      <th>pubmed_ID</th>\n",
              "      <th>ligand_name</th>\n",
              "      <th>target_name</th>\n",
              "      <th>canonical_SMILES</th>\n",
              "      <th>PDB</th>\n",
              "      <th>Resource</th>\n",
              "      <th>CID</th>\n",
              "      <th>molecular_formula</th>\n",
              "      <th>molecular_weight</th>\n",
              "      <th>isomeric_smiles</th>\n",
              "      <th>iupac_name</th>\n",
              "      <th>xlogp</th>\n",
              "      <th>image_url</th>\n",
              "      <th>SDF_file</th>\n",
              "    </tr>\n",
              "  </thead>\n",
              "  <tbody>\n",
              "    <tr>\n",
              "      <th>0</th>\n",
              "      <td>APBD39</td>\n",
              "      <td>25699094</td>\n",
              "      <td>Cholesterol</td>\n",
              "      <td>nucleolin aptamer</td>\n",
              "      <td>[H][C@@]1(CC[C@@]2([H])[C@]3([H])CC=C4C[C@@]([...</td>\n",
              "      <td>NA</td>\n",
              "      <td>Aptamers: active targeting ligands for cancer ...</td>\n",
              "      <td>5997</td>\n",
              "      <td>C27H46O</td>\n",
              "      <td>386.7</td>\n",
              "      <td>C[C@H](CCCC(C)C)[C@H]1CC[C@@H]2[C@@]1(CC[C@H]3...</td>\n",
              "      <td>(3S,8S,9S,10R,13R,14S,17R)-10,13-dimethyl-17-[...</td>\n",
              "      <td>8.7</td>\n",
              "      <td>https://pubchem.ncbi.nlm.nih.gov/rest/pug/comp...</td>\n",
              "      <td>https://pubchem.ncbi.nlm.nih.gov/rest/pug/comp...</td>\n",
              "    </tr>\n",
              "    <tr>\n",
              "      <th>1</th>\n",
              "      <td>APBD40</td>\n",
              "      <td>25699094</td>\n",
              "      <td>Chlorin e6 (Ce6)</td>\n",
              "      <td>aptamer TD05</td>\n",
              "      <td>[H][C@@]1(C)\\C2=C\\C3=C(C)C(C=C)=C(N3)\\C=C3/N=C...</td>\n",
              "      <td>NA</td>\n",
              "      <td>Aptamers: active targeting ligands for cancer ...</td>\n",
              "      <td>IDENTICAL_COMPOUND_ABSENT</td>\n",
              "      <td>NA</td>\n",
              "      <td>NA</td>\n",
              "      <td>NA</td>\n",
              "      <td>NA</td>\n",
              "      <td>NA</td>\n",
              "      <td>NA</td>\n",
              "      <td>NA</td>\n",
              "    </tr>\n",
              "    <tr>\n",
              "      <th>2</th>\n",
              "      <td>APBD54</td>\n",
              "      <td>20166743</td>\n",
              "      <td>TMPyP4</td>\n",
              "      <td>AS1411 aptamer</td>\n",
              "      <td>C[N+]1=CC=C(C=C1)C1=C2\\C=CC(=N2)\\C(=C2/N\\C(\\C=...</td>\n",
              "      <td>NA</td>\n",
              "      <td>Aptamer-based tumor-targeted drug delivery for...</td>\n",
              "      <td>135398505</td>\n",
              "      <td>C44H38N8+4</td>\n",
              "      <td>678.8</td>\n",
              "      <td>C[N+]1=CC=C(C=C1)C2=C3C=CC(=C(C4=NC(=C(C5=CC=C...</td>\n",
              "      <td>5,10,15,20-tetrakis(1-methylpyridin-1-ium-4-yl...</td>\n",
              "      <td>6.7</td>\n",
              "      <td>https://pubchem.ncbi.nlm.nih.gov/rest/pug/comp...</td>\n",
              "      <td>https://pubchem.ncbi.nlm.nih.gov/rest/pug/comp...</td>\n",
              "    </tr>\n",
              "    <tr>\n",
              "      <th>3</th>\n",
              "      <td>APBD114</td>\n",
              "      <td>10926496</td>\n",
              "      <td>Malachite green (MG)</td>\n",
              "      <td>malachite green RNA aptamer (MGA)</td>\n",
              "      <td>CN(C)C1=CC=C(C=C1)C(C1=CC=CC=C1)=C1C=CC(C=C1)=...</td>\n",
              "      <td>[PDB/1F1T]</td>\n",
              "      <td>2.8 A crystal structure of the malachite green...</td>\n",
              "      <td>11295</td>\n",
              "      <td>C23H25N2+</td>\n",
              "      <td>329.5</td>\n",
              "      <td>CN(C)C1=CC=C(C=C1)C(=C2C=CC(=[N+](C)C)C=C2)C3=...</td>\n",
              "      <td>[4-[[4-(dimethylamino)phenyl]-phenylmethyliden...</td>\n",
              "      <td>4.8</td>\n",
              "      <td>https://pubchem.ncbi.nlm.nih.gov/rest/pug/comp...</td>\n",
              "      <td>https://pubchem.ncbi.nlm.nih.gov/rest/pug/comp...</td>\n",
              "    </tr>\n",
              "    <tr>\n",
              "      <th>4</th>\n",
              "      <td>APBD115</td>\n",
              "      <td>10926496</td>\n",
              "      <td>Crystal violet (CV)</td>\n",
              "      <td>malachite green RNA aptamer (MGA)</td>\n",
              "      <td>CN(C)C1=CC=C(C=C1)C(C1=CC=C(C=C1)N(C)C)=C1C=CC...</td>\n",
              "      <td>[PDB/1F1T]</td>\n",
              "      <td>2.8 A crystal structure of the malachite green...</td>\n",
              "      <td>3468</td>\n",
              "      <td>C25H30N3+</td>\n",
              "      <td>372.5</td>\n",
              "      <td>CN(C)C1=CC=C(C=C1)C(=C2C=CC(=[N+](C)C)C=C2)C3=...</td>\n",
              "      <td>[4-[bis[4-(dimethylamino)phenyl]methylidene]cy...</td>\n",
              "      <td>4.9</td>\n",
              "      <td>https://pubchem.ncbi.nlm.nih.gov/rest/pug/comp...</td>\n",
              "      <td>https://pubchem.ncbi.nlm.nih.gov/rest/pug/comp...</td>\n",
              "    </tr>\n",
              "  </tbody>\n",
              "</table>\n",
              "</div>"
            ],
            "text/plain": [
              "   naldb_ID  ...                                           SDF_file\n",
              "0   APBD39   ...  https://pubchem.ncbi.nlm.nih.gov/rest/pug/comp...\n",
              "1   APBD40   ...                                                 NA\n",
              "2   APBD54   ...  https://pubchem.ncbi.nlm.nih.gov/rest/pug/comp...\n",
              "3  APBD114   ...  https://pubchem.ncbi.nlm.nih.gov/rest/pug/comp...\n",
              "4  APBD115   ...  https://pubchem.ncbi.nlm.nih.gov/rest/pug/comp...\n",
              "\n",
              "[5 rows x 15 columns]"
            ]
          },
          "metadata": {},
          "execution_count": 33
        }
      ]
    },
    {
      "cell_type": "code",
      "metadata": {
        "id": "rCCvnct_UFej"
      },
      "source": [
        "section_one_RNA.to_csv(\"Section_One_RNA_Ligands_Automated_Fetched_Data.csv\")\n",
        "\n",
        "section_one_RNA.to_excel(\"Section_All_RNA_Ligands_Automated_Fetched_Data.xlsx\", sheet_name=\"Section-I\")"
      ],
      "execution_count": null,
      "outputs": []
    },
    {
      "cell_type": "code",
      "metadata": {
        "colab": {
          "base_uri": "https://localhost:8080/"
        },
        "id": "DMjhHEYIUutp",
        "outputId": "6493fc33-cad3-42c3-988e-aa72f161995b"
      },
      "source": [
        "! mkdir Excel-RNA-Ligands-Automated-Data\n",
        "! mkdir CSV-RNA-Ligands-Automated-Data"
      ],
      "execution_count": null,
      "outputs": [
        {
          "output_type": "stream",
          "name": "stdout",
          "text": [
            "mkdir: cannot create directory ‘Excel-RNA-Ligands-Automated-Data’: File exists\n",
            "mkdir: cannot create directory ‘CSV-RNA-Ligands-Automated-Data’: File exists\n"
          ]
        }
      ]
    },
    {
      "cell_type": "code",
      "metadata": {
        "id": "X36uwUpPVJ65"
      },
      "source": [
        "! mv /content/Section_One_RNA_Ligands_Automated_Fetched_Data.csv /content/CSV-RNA-Ligands-Automated-Data\n",
        "! mv /content/Section_All_RNA_Ligands_Automated_Fetched_Data.xlsx /content/Excel-RNA-Ligands-Automated-Data"
      ],
      "execution_count": null,
      "outputs": []
    },
    {
      "cell_type": "code",
      "metadata": {
        "id": "cp3yvV5vVRLb"
      },
      "source": [
        "! cp -r /content/CSV-RNA-Ligands-Automated-Data /content/drive/MyDrive/Colab\\ Notebooks/RNA-LIGAND-DATABASE\n",
        "! cp -r /content/Excel-RNA-Ligands-Automated-Data /content/drive/MyDrive/Colab\\ Notebooks/RNA-LIGAND-DATABASE"
      ],
      "execution_count": null,
      "outputs": []
    },
    {
      "cell_type": "markdown",
      "metadata": {
        "id": "rkeIoVWTV-YB"
      },
      "source": [
        "#### Downloading SDF files"
      ]
    },
    {
      "cell_type": "code",
      "metadata": {
        "colab": {
          "base_uri": "https://localhost:8080/"
        },
        "id": "1iJCuw83XYWd",
        "outputId": "fdec24c9-b657-4564-eca7-c2e30d65e600"
      },
      "source": [
        "! mkdir SDF-RNA-Ligands-Automated-Data-Non-Redundant"
      ],
      "execution_count": null,
      "outputs": [
        {
          "output_type": "stream",
          "name": "stdout",
          "text": [
            "mkdir: cannot create directory ‘SDF-RNA-Ligands-Automated-Data-Non-Redundant’: File exists\n"
          ]
        }
      ]
    },
    {
      "cell_type": "code",
      "metadata": {
        "id": "mw1QSRaRXmf7"
      },
      "source": [
        "path = \"/content/SDF-RNA-Ligands-Automated-Data-Non-Redundant\""
      ],
      "execution_count": null,
      "outputs": []
    },
    {
      "cell_type": "code",
      "metadata": {
        "id": "yB6XLQW-cQSK"
      },
      "source": [
        "non_redundant_pubchem = np.unique(section_one_RNA['CID'])"
      ],
      "execution_count": null,
      "outputs": []
    },
    {
      "cell_type": "code",
      "metadata": {
        "colab": {
          "base_uri": "https://localhost:8080/"
        },
        "id": "H_O8y2fOW3U2",
        "outputId": "ee2fb83f-91c2-4739-d85f-3a03a68a9952"
      },
      "source": [
        "for cid in tqdm(non_redundant_pubchem):\n",
        "  \n",
        "  if cid != \"IDENTICAL_COMPOUND_ABSENT\":\n",
        "    download_url = f\"https://pubchem.ncbi.nlm.nih.gov/rest/pug/compound/cid/{cid}/SDF\"\n",
        "\n",
        "    response = requests.get(download_url, stream=True)\n",
        "\n",
        "    with open(f\"{path}/{cid.strip()}.sdf\", \"wb\") as handle:\n",
        "        for data in response.iter_content():\n",
        "            handle.write(data)"
      ],
      "execution_count": null,
      "outputs": [
        {
          "output_type": "stream",
          "name": "stderr",
          "text": [
            "100%|██████████| 73/73 [00:08<00:00,  8.23it/s]\n"
          ]
        }
      ]
    },
    {
      "cell_type": "code",
      "metadata": {
        "colab": {
          "base_uri": "https://localhost:8080/"
        },
        "id": "FEAcUnEVV946",
        "outputId": "45f5fbf4-344c-4d1c-a2cd-8d773f186672"
      },
      "source": [
        "sdf_files = len(os.listdir(path))\n",
        "print(f\"{sdf_files} SDF files downloaded\")"
      ],
      "execution_count": null,
      "outputs": [
        {
          "output_type": "stream",
          "name": "stdout",
          "text": [
            "72 SDF files downloaded\n"
          ]
        }
      ]
    },
    {
      "cell_type": "code",
      "metadata": {
        "id": "FU5RzO01Z541"
      },
      "source": [
        "! cp -r /content/SDF-RNA-Ligands-Automated-Data-Non-Redundant /content/drive/MyDrive/Colab\\ Notebooks/RNA-LIGAND-DATABASE"
      ],
      "execution_count": null,
      "outputs": []
    },
    {
      "cell_type": "code",
      "metadata": {
        "colab": {
          "base_uri": "https://localhost:8080/"
        },
        "id": "ToBbp3A9KgcL",
        "outputId": "7456576c-7e61-460c-98a9-5f0118526a93"
      },
      "source": [
        "end=datetime.now()\n",
        "\n",
        "print(f\"Time took to run whole notebook: {end-start}\")"
      ],
      "execution_count": null,
      "outputs": [
        {
          "output_type": "stream",
          "name": "stdout",
          "text": [
            "Time took to run whole notebook: 0:17:06.950717\n"
          ]
        }
      ]
    },
    {
      "cell_type": "code",
      "metadata": {
        "id": "fh4J4ZQajPK4"
      },
      "source": [
        "# Storing entries which are related to DNA for manual checking\n",
        "section_one_naldb_DNA = section_one_naldb_all[section_one_naldb_all['pubmed_ID'].isin(list(DNA_related.keys()))]\n",
        "\n",
        "section_one_naldb_DNA.to_csv(\"section_one_naldb_DNA.csv\")\n",
        "!cp -r /content/section_one_naldb_DNA.csv /content/drive/MyDrive/Colab\\ Notebooks/RNA-LIGAND-DATABASE/Miscellaneous\n",
        "\n",
        "section_one_naldb_DNA.to_csv(\"section_one_naldb_DNA.xlsx\")\n",
        "!cp -r /content/section_one_naldb_DNA.csv /content/drive/MyDrive/Colab\\ Notebooks/RNA-LIGAND-DATABASE/Miscellaneousa"
      ],
      "execution_count": null,
      "outputs": []
    },
    {
      "cell_type": "markdown",
      "metadata": {
        "id": "vMrQL8TckgQe"
      },
      "source": [
        "### Section II - Nucleic Acid Special Structure Binding Ligand"
      ]
    },
    {
      "cell_type": "code",
      "metadata": {
        "id": "cLrSVgnYkmPE"
      },
      "source": [
        ""
      ],
      "execution_count": null,
      "outputs": []
    }
  ]
}